{
 "cells": [
  {
   "cell_type": "markdown",
   "metadata": {
    "id": "AGKAZlCh02cl"
   },
   "source": [
    "# Introduction to Neural Networking in Keras\n",
    "\n",
    "<a href=\"https://colab.research.google.com/github/coding-dojo-data-science/week-11-lecture-1-intro-to-deep-learning/blob/11.7.22/SOLUTIONS%20Code-along%20Intro%20to%20Neural%20Networking.ipynb\" target=\"_parent\"><img src=\"https://colab.research.google.com/assets/colab-badge.svg\" alt=\"Open In Colab\"/></a>"
   ]
  },
  {
   "cell_type": "markdown",
   "metadata": {
    "id": "OStduN-207_9"
   },
   "source": [
    "We will use the version of Keras that comes in the Tensorflow package, as it has the most up to date tools.\n",
    "\n",
    "Keras works as weapper for deep learning model to be used as classification or regression estimators in sklearn"
   ]
  },
  {
   "cell_type": "code",
   "execution_count": 1,
   "metadata": {
    "ExecuteTime": {
     "end_time": "2023-02-07T23:07:39.421067Z",
     "start_time": "2023-02-07T23:07:36.300014Z"
    },
    "executionInfo": {
     "elapsed": 10658,
     "status": "ok",
     "timestamp": 1668628525321,
     "user": {
      "displayName": "Josh Johnson",
      "userId": "08606005069848925988"
     },
     "user_tz": 480
    },
    "id": "Zw6CH1mp0zR4"
   },
   "outputs": [],
   "source": [
    "import pandas as pd\n",
    "import numpy as np\n",
    "\n",
    "import matplotlib.pyplot as plt\n",
    "from seaborn import heatmap\n",
    "\n",
    "from sklearn.metrics import mean_absolute_error, r2_score, mean_squared_error, \\\n",
    "precision_score, recall_score, accuracy_score, f1_score, ConfusionMatrixDisplay, \\\n",
    "classification_report\n",
    "from sklearn.preprocessing import MinMaxScaler\n",
    "from sklearn.model_selection import train_test_split\n",
    "\n",
    "# new libraries\n",
    "import tensorflow as tf\n",
    "import tensorflow.keras as keras\n",
    "from keras.models import Sequential\n",
    "from keras.layers import Dense\n",
    "\n",
    "# Set random seeds for consistent outcomes\n",
    "keras.backend.clear_session()\n",
    "np.random.seed(42)\n",
    "tf.random.set_seed(42)"
   ]
  },
  {
   "cell_type": "markdown",
   "metadata": {
    "id": "e5pga5rHChPu"
   },
   "source": [
    "### Plot History\n",
    "\n",
    "Since we will be plotting histories for all of our models, lets create a function to do it quickly."
   ]
  },
  {
   "cell_type": "code",
   "execution_count": 2,
   "metadata": {
    "ExecuteTime": {
     "end_time": "2023-02-07T23:07:39.435669Z",
     "start_time": "2023-02-07T23:07:39.422066Z"
    },
    "executionInfo": {
     "elapsed": 4,
     "status": "ok",
     "timestamp": 1668628525321,
     "user": {
      "displayName": "Josh Johnson",
      "userId": "08606005069848925988"
     },
     "user_tz": 480
    },
    "id": "4Vj7CBZJKJVh"
   },
   "outputs": [],
   "source": [
    "def plot_history(history):\n",
    "  \"\"\"Takes a keras model learning history and plots each metric\"\"\"\n",
    "  \n",
    "  metrics = history.history.keys()\n",
    "  \n",
    "  for metric in metrics:\n",
    "      if not 'val' in metric:\n",
    "        plt.plot(history.history[f'{metric}'], label=f'{metric}')\n",
    "        if f'val_{metric}' in metrics:\n",
    "          plt.plot(history.history[f'val_{metric}'], label=f'val_{metric}')\n",
    "        plt.legend()\n",
    "        plt.title(f'{metric}')\n",
    "        plt.show()\n",
    "        \n",
    "def eval_regression(true, pred, name='Model'):\n",
    "    \"\"\"Evaluates true and predicted values from a regression model.  \n",
    "    Outputs a dataframe of metrics\"\"\"\n",
    "    scores = pd.DataFrame()\n",
    "    scores['Model Name'] = [name]\n",
    "    scores['RMSE'] = [np.sqrt(mean_squared_error(true, pred))]\n",
    "    scores['MAE'] = [mean_absolute_error(true, pred)]\n",
    "    scores['R2'] = [r2_score(true, pred)]\n",
    "    scores.set_index('Model Name', inplace=True)\n",
    "\n",
    "    return scores\n",
    "\n",
    "def eval_classification(true, pred, name='Model', labels=None):\n",
    "    \"\"\"shows classification_report and confusion matrix\n",
    "    for classification model predictions.  Outputs a dataframe of metrics\"\"\"\n",
    "  \n",
    "    print(name, '\\n')\n",
    "    print(classification_report(true, pred, target_names=labels))\n",
    "    ConfusionMatrixDisplay.from_predictions(true, pred, display_labels=labels)\n",
    "    plt.show()\n",
    "\n",
    "    scores = pd.DataFrame()\n",
    "    scores['Model Name'] = [name]\n",
    "    scores['Precision'] = [precision_score(true, pred)]\n",
    "    scores['Recall'] = [recall_score(true, pred)]\n",
    "    scores['F1 Score'] = [f1_score(true, pred)]\n",
    "    scores['Accuracy'] = [accuracy_score(true, pred)]\n",
    "    scores.set_index('Model Name', inplace=True)\n",
    "\n",
    "    return scores"
   ]
  },
  {
   "cell_type": "markdown",
   "metadata": {
    "id": "RAUUTWm93ojP"
   },
   "source": [
    "# Data\n",
    "\n",
    "We will be working with 2 different datasets in this project, 1 is a regression dataset and the other is a classification dataset.  This way you can practice doing both using deep learning.\n",
    "\n",
    "**NOTE**\n",
    "\n",
    "These datasets are very small for deep learning.  Deep learning models usually work best with very large datasets with at least 10,000 or more samples.  They work best on even larger datasets than that.  But, for demonstration we will use these smaller datasets.\n",
    "\n",
    "## Regression\n",
    "This is a dataset of housing prices in Boston from 1978.  Each row is a house and the dataset includes several features regarding each house.  Our target today will be the price of the home.\n",
    "\n"
   ]
  },
  {
   "cell_type": "code",
   "execution_count": 3,
   "metadata": {
    "ExecuteTime": {
     "end_time": "2023-02-07T23:07:39.544976Z",
     "start_time": "2023-02-07T23:07:39.437665Z"
    },
    "executionInfo": {
     "elapsed": 211,
     "status": "ok",
     "timestamp": 1668628525529,
     "user": {
      "displayName": "Josh Johnson",
      "userId": "08606005069848925988"
     },
     "user_tz": 480
    },
    "id": "8_PM7Bt81FKh"
   },
   "outputs": [],
   "source": [
    "regression_df = pd.read_csv('https://raw.githubusercontent.com/ninja-josh/image-storage/main/Boston_Housing_from_Sklearn.csv')"
   ]
  },
  {
   "cell_type": "markdown",
   "metadata": {
    "id": "1YPAPvdG6Sqy"
   },
   "source": [
    "# Regression\n",
    "\n",
    "Let's start with modeling the regression dataset"
   ]
  },
  {
   "cell_type": "code",
   "execution_count": 4,
   "metadata": {
    "ExecuteTime": {
     "end_time": "2023-02-07T23:07:39.575086Z",
     "start_time": "2023-02-07T23:07:39.545974Z"
    },
    "colab": {
     "base_uri": "https://localhost:8080/",
     "height": 423
    },
    "executionInfo": {
     "elapsed": 177,
     "status": "ok",
     "timestamp": 1668628525705,
     "user": {
      "displayName": "Josh Johnson",
      "userId": "08606005069848925988"
     },
     "user_tz": 480
    },
    "id": "3STtBugN3fp1",
    "outputId": "d18fda5d-0cc5-4546-dcbe-a877e5a22cc7"
   },
   "outputs": [
    {
     "data": {
      "text/html": [
       "<div>\n",
       "<style scoped>\n",
       "    .dataframe tbody tr th:only-of-type {\n",
       "        vertical-align: middle;\n",
       "    }\n",
       "\n",
       "    .dataframe tbody tr th {\n",
       "        vertical-align: top;\n",
       "    }\n",
       "\n",
       "    .dataframe thead th {\n",
       "        text-align: right;\n",
       "    }\n",
       "</style>\n",
       "<table border=\"1\" class=\"dataframe\">\n",
       "  <thead>\n",
       "    <tr style=\"text-align: right;\">\n",
       "      <th></th>\n",
       "      <th>CRIM</th>\n",
       "      <th>NOX</th>\n",
       "      <th>RM</th>\n",
       "      <th>AGE</th>\n",
       "      <th>PTRATIO</th>\n",
       "      <th>LSTAT</th>\n",
       "      <th>PRICE</th>\n",
       "    </tr>\n",
       "  </thead>\n",
       "  <tbody>\n",
       "    <tr>\n",
       "      <th>0</th>\n",
       "      <td>0.00632</td>\n",
       "      <td>0.538</td>\n",
       "      <td>6.575</td>\n",
       "      <td>65.2</td>\n",
       "      <td>15.3</td>\n",
       "      <td>4.98</td>\n",
       "      <td>24.0</td>\n",
       "    </tr>\n",
       "    <tr>\n",
       "      <th>1</th>\n",
       "      <td>0.02731</td>\n",
       "      <td>0.469</td>\n",
       "      <td>6.421</td>\n",
       "      <td>78.9</td>\n",
       "      <td>17.8</td>\n",
       "      <td>9.14</td>\n",
       "      <td>21.6</td>\n",
       "    </tr>\n",
       "    <tr>\n",
       "      <th>2</th>\n",
       "      <td>0.02729</td>\n",
       "      <td>0.469</td>\n",
       "      <td>7.185</td>\n",
       "      <td>61.1</td>\n",
       "      <td>17.8</td>\n",
       "      <td>4.03</td>\n",
       "      <td>34.7</td>\n",
       "    </tr>\n",
       "    <tr>\n",
       "      <th>3</th>\n",
       "      <td>0.03237</td>\n",
       "      <td>0.458</td>\n",
       "      <td>6.998</td>\n",
       "      <td>45.8</td>\n",
       "      <td>18.7</td>\n",
       "      <td>2.94</td>\n",
       "      <td>33.4</td>\n",
       "    </tr>\n",
       "    <tr>\n",
       "      <th>4</th>\n",
       "      <td>0.06905</td>\n",
       "      <td>0.458</td>\n",
       "      <td>7.147</td>\n",
       "      <td>54.2</td>\n",
       "      <td>18.7</td>\n",
       "      <td>5.33</td>\n",
       "      <td>36.2</td>\n",
       "    </tr>\n",
       "    <tr>\n",
       "      <th>...</th>\n",
       "      <td>...</td>\n",
       "      <td>...</td>\n",
       "      <td>...</td>\n",
       "      <td>...</td>\n",
       "      <td>...</td>\n",
       "      <td>...</td>\n",
       "      <td>...</td>\n",
       "    </tr>\n",
       "    <tr>\n",
       "      <th>501</th>\n",
       "      <td>0.06263</td>\n",
       "      <td>0.573</td>\n",
       "      <td>6.593</td>\n",
       "      <td>69.1</td>\n",
       "      <td>21.0</td>\n",
       "      <td>9.67</td>\n",
       "      <td>22.4</td>\n",
       "    </tr>\n",
       "    <tr>\n",
       "      <th>502</th>\n",
       "      <td>0.04527</td>\n",
       "      <td>0.573</td>\n",
       "      <td>6.120</td>\n",
       "      <td>76.7</td>\n",
       "      <td>21.0</td>\n",
       "      <td>9.08</td>\n",
       "      <td>20.6</td>\n",
       "    </tr>\n",
       "    <tr>\n",
       "      <th>503</th>\n",
       "      <td>0.06076</td>\n",
       "      <td>0.573</td>\n",
       "      <td>6.976</td>\n",
       "      <td>91.0</td>\n",
       "      <td>21.0</td>\n",
       "      <td>5.64</td>\n",
       "      <td>23.9</td>\n",
       "    </tr>\n",
       "    <tr>\n",
       "      <th>504</th>\n",
       "      <td>0.10959</td>\n",
       "      <td>0.573</td>\n",
       "      <td>6.794</td>\n",
       "      <td>89.3</td>\n",
       "      <td>21.0</td>\n",
       "      <td>6.48</td>\n",
       "      <td>22.0</td>\n",
       "    </tr>\n",
       "    <tr>\n",
       "      <th>505</th>\n",
       "      <td>0.04741</td>\n",
       "      <td>0.573</td>\n",
       "      <td>6.030</td>\n",
       "      <td>80.8</td>\n",
       "      <td>21.0</td>\n",
       "      <td>7.88</td>\n",
       "      <td>11.9</td>\n",
       "    </tr>\n",
       "  </tbody>\n",
       "</table>\n",
       "<p>506 rows × 7 columns</p>\n",
       "</div>"
      ],
      "text/plain": [
       "        CRIM    NOX     RM   AGE  PTRATIO  LSTAT  PRICE\n",
       "0    0.00632  0.538  6.575  65.2     15.3   4.98   24.0\n",
       "1    0.02731  0.469  6.421  78.9     17.8   9.14   21.6\n",
       "2    0.02729  0.469  7.185  61.1     17.8   4.03   34.7\n",
       "3    0.03237  0.458  6.998  45.8     18.7   2.94   33.4\n",
       "4    0.06905  0.458  7.147  54.2     18.7   5.33   36.2\n",
       "..       ...    ...    ...   ...      ...    ...    ...\n",
       "501  0.06263  0.573  6.593  69.1     21.0   9.67   22.4\n",
       "502  0.04527  0.573  6.120  76.7     21.0   9.08   20.6\n",
       "503  0.06076  0.573  6.976  91.0     21.0   5.64   23.9\n",
       "504  0.10959  0.573  6.794  89.3     21.0   6.48   22.0\n",
       "505  0.04741  0.573  6.030  80.8     21.0   7.88   11.9\n",
       "\n",
       "[506 rows x 7 columns]"
      ]
     },
     "execution_count": 4,
     "metadata": {},
     "output_type": "execute_result"
    }
   ],
   "source": [
    "regression_df"
   ]
  },
  {
   "cell_type": "code",
   "execution_count": 5,
   "metadata": {
    "ExecuteTime": {
     "end_time": "2023-02-07T23:07:39.591044Z",
     "start_time": "2023-02-07T23:07:39.576085Z"
    },
    "colab": {
     "base_uri": "https://localhost:8080/"
    },
    "executionInfo": {
     "elapsed": 177,
     "status": "ok",
     "timestamp": 1668628525878,
     "user": {
      "displayName": "Josh Johnson",
      "userId": "08606005069848925988"
     },
     "user_tz": 480
    },
    "id": "uvcvdJUZ6YKX",
    "outputId": "1fbc2cf8-9e1b-406b-88ed-4d553133c35e"
   },
   "outputs": [
    {
     "data": {
      "text/plain": [
       "False"
      ]
     },
     "execution_count": 5,
     "metadata": {},
     "output_type": "execute_result"
    }
   ],
   "source": [
    "regression_df.duplicated().any()"
   ]
  },
  {
   "cell_type": "code",
   "execution_count": 6,
   "metadata": {
    "ExecuteTime": {
     "end_time": "2023-02-07T23:07:39.622014Z",
     "start_time": "2023-02-07T23:07:39.592040Z"
    },
    "colab": {
     "base_uri": "https://localhost:8080/",
     "height": 300
    },
    "executionInfo": {
     "elapsed": 192,
     "status": "ok",
     "timestamp": 1668628526069,
     "user": {
      "displayName": "Josh Johnson",
      "userId": "08606005069848925988"
     },
     "user_tz": 480
    },
    "id": "IrxmHTaU6s3N",
    "outputId": "441f816a-6b31-4bc8-8637-84824cbb3b18"
   },
   "outputs": [
    {
     "data": {
      "text/html": [
       "<div>\n",
       "<style scoped>\n",
       "    .dataframe tbody tr th:only-of-type {\n",
       "        vertical-align: middle;\n",
       "    }\n",
       "\n",
       "    .dataframe tbody tr th {\n",
       "        vertical-align: top;\n",
       "    }\n",
       "\n",
       "    .dataframe thead th {\n",
       "        text-align: right;\n",
       "    }\n",
       "</style>\n",
       "<table border=\"1\" class=\"dataframe\">\n",
       "  <thead>\n",
       "    <tr style=\"text-align: right;\">\n",
       "      <th></th>\n",
       "      <th>CRIM</th>\n",
       "      <th>NOX</th>\n",
       "      <th>RM</th>\n",
       "      <th>AGE</th>\n",
       "      <th>PTRATIO</th>\n",
       "      <th>LSTAT</th>\n",
       "      <th>PRICE</th>\n",
       "    </tr>\n",
       "  </thead>\n",
       "  <tbody>\n",
       "    <tr>\n",
       "      <th>count</th>\n",
       "      <td>506.000000</td>\n",
       "      <td>506.000000</td>\n",
       "      <td>506.000000</td>\n",
       "      <td>506.000000</td>\n",
       "      <td>506.000000</td>\n",
       "      <td>506.000000</td>\n",
       "      <td>506.000000</td>\n",
       "    </tr>\n",
       "    <tr>\n",
       "      <th>mean</th>\n",
       "      <td>3.613524</td>\n",
       "      <td>0.554695</td>\n",
       "      <td>6.284634</td>\n",
       "      <td>68.574901</td>\n",
       "      <td>18.455534</td>\n",
       "      <td>12.653063</td>\n",
       "      <td>22.532806</td>\n",
       "    </tr>\n",
       "    <tr>\n",
       "      <th>std</th>\n",
       "      <td>8.601545</td>\n",
       "      <td>0.115878</td>\n",
       "      <td>0.702617</td>\n",
       "      <td>28.148861</td>\n",
       "      <td>2.164946</td>\n",
       "      <td>7.141062</td>\n",
       "      <td>9.197104</td>\n",
       "    </tr>\n",
       "    <tr>\n",
       "      <th>min</th>\n",
       "      <td>0.006320</td>\n",
       "      <td>0.385000</td>\n",
       "      <td>3.561000</td>\n",
       "      <td>2.900000</td>\n",
       "      <td>12.600000</td>\n",
       "      <td>1.730000</td>\n",
       "      <td>5.000000</td>\n",
       "    </tr>\n",
       "    <tr>\n",
       "      <th>25%</th>\n",
       "      <td>0.082045</td>\n",
       "      <td>0.449000</td>\n",
       "      <td>5.885500</td>\n",
       "      <td>45.025000</td>\n",
       "      <td>17.400000</td>\n",
       "      <td>6.950000</td>\n",
       "      <td>17.025000</td>\n",
       "    </tr>\n",
       "    <tr>\n",
       "      <th>50%</th>\n",
       "      <td>0.256510</td>\n",
       "      <td>0.538000</td>\n",
       "      <td>6.208500</td>\n",
       "      <td>77.500000</td>\n",
       "      <td>19.050000</td>\n",
       "      <td>11.360000</td>\n",
       "      <td>21.200000</td>\n",
       "    </tr>\n",
       "    <tr>\n",
       "      <th>75%</th>\n",
       "      <td>3.677083</td>\n",
       "      <td>0.624000</td>\n",
       "      <td>6.623500</td>\n",
       "      <td>94.075000</td>\n",
       "      <td>20.200000</td>\n",
       "      <td>16.955000</td>\n",
       "      <td>25.000000</td>\n",
       "    </tr>\n",
       "    <tr>\n",
       "      <th>max</th>\n",
       "      <td>88.976200</td>\n",
       "      <td>0.871000</td>\n",
       "      <td>8.780000</td>\n",
       "      <td>100.000000</td>\n",
       "      <td>22.000000</td>\n",
       "      <td>37.970000</td>\n",
       "      <td>50.000000</td>\n",
       "    </tr>\n",
       "  </tbody>\n",
       "</table>\n",
       "</div>"
      ],
      "text/plain": [
       "             CRIM         NOX          RM         AGE     PTRATIO       LSTAT  \\\n",
       "count  506.000000  506.000000  506.000000  506.000000  506.000000  506.000000   \n",
       "mean     3.613524    0.554695    6.284634   68.574901   18.455534   12.653063   \n",
       "std      8.601545    0.115878    0.702617   28.148861    2.164946    7.141062   \n",
       "min      0.006320    0.385000    3.561000    2.900000   12.600000    1.730000   \n",
       "25%      0.082045    0.449000    5.885500   45.025000   17.400000    6.950000   \n",
       "50%      0.256510    0.538000    6.208500   77.500000   19.050000   11.360000   \n",
       "75%      3.677083    0.624000    6.623500   94.075000   20.200000   16.955000   \n",
       "max     88.976200    0.871000    8.780000  100.000000   22.000000   37.970000   \n",
       "\n",
       "            PRICE  \n",
       "count  506.000000  \n",
       "mean    22.532806  \n",
       "std      9.197104  \n",
       "min      5.000000  \n",
       "25%     17.025000  \n",
       "50%     21.200000  \n",
       "75%     25.000000  \n",
       "max     50.000000  "
      ]
     },
     "execution_count": 6,
     "metadata": {},
     "output_type": "execute_result"
    }
   ],
   "source": [
    "regression_df.describe()"
   ]
  },
  {
   "cell_type": "code",
   "execution_count": 7,
   "metadata": {
    "ExecuteTime": {
     "end_time": "2023-02-07T23:07:39.637400Z",
     "start_time": "2023-02-07T23:07:39.623013Z"
    },
    "executionInfo": {
     "elapsed": 3,
     "status": "ok",
     "timestamp": 1668628526069,
     "user": {
      "displayName": "Josh Johnson",
      "userId": "08606005069848925988"
     },
     "user_tz": 480
    },
    "id": "rU0zM_dk6xDd"
   },
   "outputs": [],
   "source": [
    "# Define X and Y and complete the train test split\n",
    "X = regression_df.drop(columns = 'PRICE')\n",
    "y = regression_df['PRICE']\n",
    "\n",
    "X_train, X_test, y_train, y_test = train_test_split(X,y, random_state = 42)"
   ]
  },
  {
   "cell_type": "markdown",
   "metadata": {
    "id": "MqS765vN8Xti"
   },
   "source": [
    "## Scaling\n",
    "\n",
    "Always scale your data for deep learning.  Otherwise you get a problem call 'Exploding Weights'.  Some weights will be updated much faster than others because the inputs are at larger scales.  This tends to hurt learning as data on smaller scales does not update as fast and doesn't get to contribute as much to the decision making process.  By scaling we put all features on the same footing."
   ]
  },
  {
   "cell_type": "code",
   "execution_count": 8,
   "metadata": {
    "ExecuteTime": {
     "end_time": "2023-02-07T23:07:39.653428Z",
     "start_time": "2023-02-07T23:07:39.639369Z"
    },
    "executionInfo": {
     "elapsed": 186,
     "status": "ok",
     "timestamp": 1668628526253,
     "user": {
      "displayName": "Josh Johnson",
      "userId": "08606005069848925988"
     },
     "user_tz": 480
    },
    "id": "bvCCtAhQ7gGe"
   },
   "outputs": [],
   "source": [
    "# Scale the data\n",
    "scaler = MinMaxScaler()\n",
    "\n",
    "scaler.fit(X_train)\n",
    "X_train = scaler.transform(X_train)\n",
    "X_test = scaler.transform(X_test)"
   ]
  },
  {
   "cell_type": "markdown",
   "metadata": {
    "id": "BzX4RBcu8TFx"
   },
   "source": [
    "## First Simple Model\n",
    "\n",
    "We always want to start simple, as deep learning models can get very complex fast and more complex models take more time to train and are more prone to overfitting.  A well performing simple model is better than a well performing complex model.\n",
    "\n",
    "## Input layer\n",
    "The first layer we will define is not technically the input layer.  We will define the first hidden layer with a special argument that tells Keras how to create a input layer:\n",
    "\n",
    "`input_dim=`\n",
    "\n",
    "Input layers can also be defined manually using tensorflow.keras.layers.InputLayer\n",
    "\n",
    "## Activation function\n",
    "\n",
    "For the single hidden layer we will try just 3 nodes and use a ReLU activation.  ReLUs tend to perform well for hidden nodes.\n",
    "\n",
    "## Output Layer\n",
    "\n",
    "For out output layer (last layer) we just use one node because we only want the output of the model to be one number.  We will use a linear activation function.  This will simply output the value from the weights and bias in the node with no change.  The output will be a continuous number, a float.  This will make our model a regression model.\n",
    "\n",
    "\n"
   ]
  },
  {
   "cell_type": "code",
   "execution_count": 9,
   "metadata": {
    "ExecuteTime": {
     "end_time": "2023-02-07T23:07:39.668648Z",
     "start_time": "2023-02-07T23:07:39.654398Z"
    },
    "colab": {
     "base_uri": "https://localhost:8080/"
    },
    "executionInfo": {
     "elapsed": 176,
     "status": "ok",
     "timestamp": 1668628526427,
     "user": {
      "displayName": "Josh Johnson",
      "userId": "08606005069848925988"
     },
     "user_tz": 480
    },
    "id": "DfYhlMbBwZcQ",
    "outputId": "7383b3f8-36b3-4c9d-e62f-c4554f41721c"
   },
   "outputs": [
    {
     "data": {
      "text/plain": [
       "6"
      ]
     },
     "execution_count": 9,
     "metadata": {},
     "output_type": "execute_result"
    }
   ],
   "source": [
    "# Check the shape of input\n",
    "\n",
    "X_train.shape[1]"
   ]
  },
  {
   "cell_type": "code",
   "execution_count": 10,
   "metadata": {
    "ExecuteTime": {
     "end_time": "2023-02-07T23:07:40.434512Z",
     "start_time": "2023-02-07T23:07:39.669649Z"
    },
    "colab": {
     "base_uri": "https://localhost:8080/"
    },
    "executionInfo": {
     "elapsed": 186,
     "status": "ok",
     "timestamp": 1668628716799,
     "user": {
      "displayName": "Josh Johnson",
      "userId": "08606005069848925988"
     },
     "user_tz": 480
    },
    "id": "AnjwY1dz7vcG",
    "outputId": "e4d81b51-dcb6-43a1-b8f9-d16c834103fb"
   },
   "outputs": [
    {
     "name": "stdout",
     "output_type": "stream",
     "text": [
      "Model: \"sequential\"\n",
      "_________________________________________________________________\n",
      " Layer (type)                Output Shape              Param #   \n",
      "=================================================================\n",
      " h1 (Dense)                  (None, 10)                70        \n",
      "                                                                 \n",
      " h2 (Dense)                  (None, 10)                110       \n",
      "                                                                 \n",
      " output (Dense)              (None, 1)                 11        \n",
      "                                                                 \n",
      "=================================================================\n",
      "Total params: 191\n",
      "Trainable params: 191\n",
      "Non-trainable params: 0\n",
      "_________________________________________________________________\n"
     ]
    }
   ],
   "source": [
    "# Set Random Seeds\n",
    "keras.backend.clear_session()\n",
    "np.random.seed(42)\n",
    "tf.random.set_seed(42)\n",
    "\n",
    "# Instantiate your sequential model\n",
    "\n",
    "reg_model = Sequential()\n",
    "# use all features as input using input_dim\n",
    "input_dim = X_train.shape[1]\n",
    "\n",
    "# Add first hidden layer\n",
    "reg_model.add(Dense(10, activation='relu', input_dim=input_dim, name='h1'))\n",
    "reg_model.add(Dense(10, activation='relu', name='h2'))\n",
    "# Add output layer with 1 node\n",
    "reg_model.add(Dense(1, activation='linear', name ='output'))\n",
    "\n",
    "\n",
    "# Check summary of network \n",
    "reg_model.summary()\n",
    "\n"
   ]
  },
  {
   "cell_type": "markdown",
   "metadata": {
    "id": "9wAFuCDGOBzo"
   },
   "source": [
    "## Compiling\n",
    "\n",
    "Compiling the model puts all the pieces together to make it ready to train.  We need to specify:\n",
    "\n",
    "* **Optimizer:** An Adam optimizer is a favorite and often performs well, it's a good place to start.\n",
    "  - Other optimizers : Gradient Descent,Stochastic Gradient Descent,Adagrad,RMSProp\n",
    "* **Loss Function:** 'mse' or mean squared error.  This is the number our model will try to reduce in each epoch.  Since this is a regression model we want our model to minimize the mean squared error.\n",
    "* **Metrics:** 'mae' or mean absolute error.  We can provide a list of any appropriate metrics we want the model to keep track at each epoch.\n",
    "\n",
    "\n"
   ]
  },
  {
   "cell_type": "code",
   "execution_count": 11,
   "metadata": {
    "ExecuteTime": {
     "end_time": "2023-02-07T23:07:40.450469Z",
     "start_time": "2023-02-07T23:07:40.435510Z"
    },
    "executionInfo": {
     "elapsed": 3,
     "status": "ok",
     "timestamp": 1668628716945,
     "user": {
      "displayName": "Josh Johnson",
      "userId": "08606005069848925988"
     },
     "user_tz": 480
    },
    "id": "iLIXOZSMLnt5"
   },
   "outputs": [],
   "source": [
    "from tensorflow.keras.metrics import RootMeanSquaredError"
   ]
  },
  {
   "cell_type": "code",
   "execution_count": 12,
   "metadata": {
    "ExecuteTime": {
     "end_time": "2023-02-07T23:07:40.466426Z",
     "start_time": "2023-02-07T23:07:40.451467Z"
    },
    "executionInfo": {
     "elapsed": 2,
     "status": "ok",
     "timestamp": 1668628716945,
     "user": {
      "displayName": "Josh Johnson",
      "userId": "08606005069848925988"
     },
     "user_tz": 480
    },
    "id": "AwAGvWCZN1WC"
   },
   "outputs": [],
   "source": [
    "# Compile your model.\n",
    "rmse = RootMeanSquaredError(name='rmse')\n",
    "\n",
    "reg_model.compile(optimizer= 'adam', loss = 'mse', metrics= ['mae', rmse])"
   ]
  },
  {
   "cell_type": "markdown",
   "metadata": {
    "id": "sBvS_wkr_hEh"
   },
   "source": [
    "# Training\n",
    "\n",
    "Let's try training our model for 100 few epochs.  Sometimes that is enough, and it will give us an idea whether our model is learning anything."
   ]
  },
  {
   "cell_type": "code",
   "execution_count": 13,
   "metadata": {
    "ExecuteTime": {
     "end_time": "2023-02-07T23:07:46.392452Z",
     "start_time": "2023-02-07T23:07:40.467424Z"
    },
    "colab": {
     "base_uri": "https://localhost:8080/"
    },
    "executionInfo": {
     "elapsed": 11079,
     "status": "ok",
     "timestamp": 1668628728022,
     "user": {
      "displayName": "Josh Johnson",
      "userId": "08606005069848925988"
     },
     "user_tz": 480
    },
    "id": "81VFx1n1-TS7",
    "outputId": "cd6f1b2d-496e-488f-abca-130a652728f3"
   },
   "outputs": [
    {
     "name": "stdout",
     "output_type": "stream",
     "text": [
      "Epoch 1/100\n",
      "12/12 [==============================] - 1s 14ms/step - loss: 637.9385 - mae: 23.4772 - rmse: 25.2574 - val_loss: 545.4421 - val_mae: 21.8481 - val_rmse: 23.3547\n",
      "Epoch 2/100\n",
      "12/12 [==============================] - 0s 4ms/step - loss: 627.7363 - mae: 23.2455 - rmse: 25.0547 - val_loss: 536.7000 - val_mae: 21.6346 - val_rmse: 23.1668\n",
      "Epoch 3/100\n",
      "12/12 [==============================] - 0s 4ms/step - loss: 619.5906 - mae: 23.0577 - rmse: 24.8916 - val_loss: 530.1462 - val_mae: 21.4729 - val_rmse: 23.0249\n",
      "Epoch 4/100\n",
      "12/12 [==============================] - 0s 4ms/step - loss: 613.4154 - mae: 22.9153 - rmse: 24.7672 - val_loss: 525.1688 - val_mae: 21.3489 - val_rmse: 22.9166\n",
      "Epoch 5/100\n",
      "12/12 [==============================] - 0s 4ms/step - loss: 608.6833 - mae: 22.8066 - rmse: 24.6715 - val_loss: 521.3896 - val_mae: 21.2550 - val_rmse: 22.8340\n",
      "Epoch 6/100\n",
      "12/12 [==============================] - 0s 4ms/step - loss: 604.8318 - mae: 22.7205 - rmse: 24.5933 - val_loss: 518.1599 - val_mae: 21.1753 - val_rmse: 22.7631\n",
      "Epoch 7/100\n",
      "12/12 [==============================] - 0s 4ms/step - loss: 601.2768 - mae: 22.6404 - rmse: 24.5209 - val_loss: 514.7411 - val_mae: 21.0910 - val_rmse: 22.6879\n",
      "Epoch 8/100\n",
      "12/12 [==============================] - 0s 4ms/step - loss: 597.3561 - mae: 22.5518 - rmse: 24.4409 - val_loss: 510.8035 - val_mae: 20.9937 - val_rmse: 22.6010\n",
      "Epoch 9/100\n",
      "12/12 [==============================] - 0s 4ms/step - loss: 592.8207 - mae: 22.4488 - rmse: 24.3479 - val_loss: 506.1331 - val_mae: 20.8781 - val_rmse: 22.4974\n",
      "Epoch 10/100\n",
      "12/12 [==============================] - 0s 4ms/step - loss: 587.4335 - mae: 22.3255 - rmse: 24.2370 - val_loss: 500.5595 - val_mae: 20.7391 - val_rmse: 22.3732\n",
      "Epoch 11/100\n",
      "12/12 [==============================] - 0s 4ms/step - loss: 580.9955 - mae: 22.1774 - rmse: 24.1038 - val_loss: 493.8624 - val_mae: 20.5708 - val_rmse: 22.2230\n",
      "Epoch 12/100\n",
      "12/12 [==============================] - 0s 4ms/step - loss: 573.3198 - mae: 21.9976 - rmse: 23.9441 - val_loss: 485.9018 - val_mae: 20.3687 - val_rmse: 22.0432\n",
      "Epoch 13/100\n",
      "12/12 [==============================] - 0s 4ms/step - loss: 564.3054 - mae: 21.7826 - rmse: 23.7551 - val_loss: 476.5312 - val_mae: 20.1275 - val_rmse: 21.8296\n",
      "Epoch 14/100\n",
      "12/12 [==============================] - 0s 4ms/step - loss: 553.5890 - mae: 21.5301 - rmse: 23.5285 - val_loss: 465.8226 - val_mae: 19.8478 - val_rmse: 21.5829\n",
      "Epoch 15/100\n",
      "12/12 [==============================] - 0s 4ms/step - loss: 541.4876 - mae: 21.2329 - rmse: 23.2699 - val_loss: 453.3793 - val_mae: 19.5167 - val_rmse: 21.2927\n",
      "Epoch 16/100\n",
      "12/12 [==============================] - 0s 4ms/step - loss: 527.4546 - mae: 20.8852 - rmse: 22.9664 - val_loss: 439.4023 - val_mae: 19.1370 - val_rmse: 20.9619\n",
      "Epoch 17/100\n",
      "12/12 [==============================] - 0s 4ms/step - loss: 511.8272 - mae: 20.4846 - rmse: 22.6236 - val_loss: 423.6510 - val_mae: 18.6984 - val_rmse: 20.5828\n",
      "Epoch 18/100\n",
      "12/12 [==============================] - 0s 4ms/step - loss: 494.0485 - mae: 20.0309 - rmse: 22.2272 - val_loss: 406.4920 - val_mae: 18.2067 - val_rmse: 20.1616\n",
      "Epoch 19/100\n",
      "12/12 [==============================] - 0s 4ms/step - loss: 474.7956 - mae: 19.5139 - rmse: 21.7898 - val_loss: 387.5802 - val_mae: 17.6468 - val_rmse: 19.6871\n",
      "Epoch 20/100\n",
      "12/12 [==============================] - 0s 4ms/step - loss: 453.9133 - mae: 18.9331 - rmse: 21.3052 - val_loss: 367.1179 - val_mae: 17.0244 - val_rmse: 19.1603\n",
      "Epoch 21/100\n",
      "12/12 [==============================] - 0s 4ms/step - loss: 430.9849 - mae: 18.2973 - rmse: 20.7602 - val_loss: 345.6684 - val_mae: 16.3494 - val_rmse: 18.5922\n",
      "Epoch 22/100\n",
      "12/12 [==============================] - 0s 4ms/step - loss: 406.9761 - mae: 17.5929 - rmse: 20.1736 - val_loss: 323.0306 - val_mae: 15.6055 - val_rmse: 17.9731\n",
      "Epoch 23/100\n",
      "12/12 [==============================] - 0s 4ms/step - loss: 381.5736 - mae: 16.8348 - rmse: 19.5339 - val_loss: 299.8459 - val_mae: 14.8240 - val_rmse: 17.3161\n",
      "Epoch 24/100\n",
      "12/12 [==============================] - 0s 4ms/step - loss: 355.7112 - mae: 16.0348 - rmse: 18.8603 - val_loss: 275.9673 - val_mae: 13.9961 - val_rmse: 16.6123\n",
      "Epoch 25/100\n",
      "12/12 [==============================] - 0s 4ms/step - loss: 328.2160 - mae: 15.1960 - rmse: 18.1167 - val_loss: 251.9820 - val_mae: 13.1336 - val_rmse: 15.8739\n",
      "Epoch 26/100\n",
      "12/12 [==============================] - 0s 4ms/step - loss: 300.6142 - mae: 14.3028 - rmse: 17.3382 - val_loss: 227.9429 - val_mae: 12.2791 - val_rmse: 15.0978\n",
      "Epoch 27/100\n",
      "12/12 [==============================] - 0s 4ms/step - loss: 273.6134 - mae: 13.3565 - rmse: 16.5413 - val_loss: 205.0759 - val_mae: 11.4178 - val_rmse: 14.3205\n",
      "Epoch 28/100\n",
      "12/12 [==============================] - 0s 4ms/step - loss: 247.5751 - mae: 12.4883 - rmse: 15.7345 - val_loss: 184.7537 - val_mae: 10.6822 - val_rmse: 13.5924\n",
      "Epoch 29/100\n",
      "12/12 [==============================] - 0s 4ms/step - loss: 224.6679 - mae: 11.7599 - rmse: 14.9889 - val_loss: 166.9295 - val_mae: 10.0872 - val_rmse: 12.9201\n",
      "Epoch 30/100\n",
      "12/12 [==============================] - 0s 4ms/step - loss: 204.9688 - mae: 11.1495 - rmse: 14.3167 - val_loss: 152.0175 - val_mae: 9.6005 - val_rmse: 12.3295\n",
      "Epoch 31/100\n",
      "12/12 [==============================] - 0s 4ms/step - loss: 187.2617 - mae: 10.5826 - rmse: 13.6844 - val_loss: 140.9003 - val_mae: 9.2261 - val_rmse: 11.8701\n",
      "Epoch 32/100\n",
      "12/12 [==============================] - 0s 4ms/step - loss: 173.8923 - mae: 10.2246 - rmse: 13.1868 - val_loss: 132.3808 - val_mae: 8.8945 - val_rmse: 11.5057\n",
      "Epoch 33/100\n",
      "12/12 [==============================] - 0s 4ms/step - loss: 163.2384 - mae: 9.8760 - rmse: 12.7765 - val_loss: 126.3324 - val_mae: 8.6354 - val_rmse: 11.2398\n",
      "Epoch 34/100\n",
      "12/12 [==============================] - 0s 4ms/step - loss: 154.9583 - mae: 9.6410 - rmse: 12.4482 - val_loss: 122.2446 - val_mae: 8.4491 - val_rmse: 11.0564\n",
      "Epoch 35/100\n",
      "12/12 [==============================] - 0s 4ms/step - loss: 148.6160 - mae: 9.4605 - rmse: 12.1908 - val_loss: 119.6602 - val_mae: 8.3384 - val_rmse: 10.9389\n",
      "Epoch 36/100\n",
      "12/12 [==============================] - 0s 4ms/step - loss: 144.6277 - mae: 9.3449 - rmse: 12.0261 - val_loss: 117.7768 - val_mae: 8.2875 - val_rmse: 10.8525\n",
      "Epoch 37/100\n",
      "12/12 [==============================] - 0s 4ms/step - loss: 140.8104 - mae: 9.2265 - rmse: 11.8664 - val_loss: 116.4347 - val_mae: 8.2474 - val_rmse: 10.7905\n",
      "Epoch 38/100\n",
      "12/12 [==============================] - 0s 4ms/step - loss: 138.4194 - mae: 9.1596 - rmse: 11.7652 - val_loss: 115.4457 - val_mae: 8.2130 - val_rmse: 10.7446\n",
      "Epoch 39/100\n",
      "12/12 [==============================] - 0s 4ms/step - loss: 135.8711 - mae: 9.0981 - rmse: 11.6564 - val_loss: 114.2857 - val_mae: 8.1715 - val_rmse: 10.6904\n",
      "Epoch 40/100\n",
      "12/12 [==============================] - 0s 4ms/step - loss: 133.9857 - mae: 9.0472 - rmse: 11.5752 - val_loss: 113.3534 - val_mae: 8.1439 - val_rmse: 10.6468\n",
      "Epoch 41/100\n",
      "12/12 [==============================] - 0s 4ms/step - loss: 132.1460 - mae: 8.9891 - rmse: 11.4955 - val_loss: 112.2921 - val_mae: 8.1097 - val_rmse: 10.5968\n",
      "Epoch 42/100\n",
      "12/12 [==============================] - 0s 5ms/step - loss: 130.4272 - mae: 8.9327 - rmse: 11.4205 - val_loss: 111.1160 - val_mae: 8.0696 - val_rmse: 10.5412\n",
      "Epoch 43/100\n",
      "12/12 [==============================] - 0s 4ms/step - loss: 128.7580 - mae: 8.8796 - rmse: 11.3472 - val_loss: 109.8600 - val_mae: 8.0239 - val_rmse: 10.4814\n",
      "Epoch 44/100\n",
      "12/12 [==============================] - 0s 4ms/step - loss: 127.1094 - mae: 8.8158 - rmse: 11.2743 - val_loss: 108.4694 - val_mae: 7.9695 - val_rmse: 10.4149\n",
      "Epoch 45/100\n",
      "12/12 [==============================] - 0s 4ms/step - loss: 125.5025 - mae: 8.7606 - rmse: 11.2028 - val_loss: 107.3450 - val_mae: 7.9295 - val_rmse: 10.3607\n",
      "Epoch 46/100\n",
      "12/12 [==============================] - 0s 4ms/step - loss: 123.8093 - mae: 8.6977 - rmse: 11.1270 - val_loss: 105.8638 - val_mae: 7.8680 - val_rmse: 10.2890\n",
      "Epoch 47/100\n",
      "12/12 [==============================] - 0s 4ms/step - loss: 122.2298 - mae: 8.6327 - rmse: 11.0558 - val_loss: 104.4014 - val_mae: 7.8074 - val_rmse: 10.2177\n",
      "Epoch 48/100\n"
     ]
    },
    {
     "name": "stdout",
     "output_type": "stream",
     "text": [
      "12/12 [==============================] - 0s 4ms/step - loss: 120.5082 - mae: 8.5656 - rmse: 10.9776 - val_loss: 102.9504 - val_mae: 7.7474 - val_rmse: 10.1464\n",
      "Epoch 49/100\n",
      "12/12 [==============================] - 0s 4ms/step - loss: 118.8187 - mae: 8.4998 - rmse: 10.9004 - val_loss: 101.6471 - val_mae: 7.6971 - val_rmse: 10.0820\n",
      "Epoch 50/100\n",
      "12/12 [==============================] - 0s 4ms/step - loss: 117.0324 - mae: 8.4296 - rmse: 10.8181 - val_loss: 100.0166 - val_mae: 7.6293 - val_rmse: 10.0008\n",
      "Epoch 51/100\n",
      "12/12 [==============================] - 0s 4ms/step - loss: 115.0529 - mae: 8.3477 - rmse: 10.7263 - val_loss: 98.1660 - val_mae: 7.5478 - val_rmse: 9.9079\n",
      "Epoch 52/100\n",
      "12/12 [==============================] - 0s 4ms/step - loss: 112.9904 - mae: 8.2566 - rmse: 10.6297 - val_loss: 96.0697 - val_mae: 7.4525 - val_rmse: 9.8015\n",
      "Epoch 53/100\n",
      "12/12 [==============================] - 0s 4ms/step - loss: 110.5211 - mae: 8.1428 - rmse: 10.5129 - val_loss: 93.5034 - val_mae: 7.3260 - val_rmse: 9.6697\n",
      "Epoch 54/100\n",
      "12/12 [==============================] - 0s 4ms/step - loss: 108.3281 - mae: 8.0388 - rmse: 10.4081 - val_loss: 91.6169 - val_mae: 7.2423 - val_rmse: 9.5717\n",
      "Epoch 55/100\n",
      "12/12 [==============================] - 0s 4ms/step - loss: 106.0017 - mae: 7.9424 - rmse: 10.2957 - val_loss: 89.5044 - val_mae: 7.1419 - val_rmse: 9.4607\n",
      "Epoch 56/100\n",
      "12/12 [==============================] - 0s 4ms/step - loss: 103.7516 - mae: 7.8401 - rmse: 10.1859 - val_loss: 87.6555 - val_mae: 7.0557 - val_rmse: 9.3625\n",
      "Epoch 57/100\n",
      "12/12 [==============================] - 0s 4ms/step - loss: 101.4052 - mae: 7.7438 - rmse: 10.0700 - val_loss: 85.8965 - val_mae: 6.9758 - val_rmse: 9.2680\n",
      "Epoch 58/100\n",
      "12/12 [==============================] - 0s 4ms/step - loss: 99.0551 - mae: 7.6379 - rmse: 9.9526 - val_loss: 83.6301 - val_mae: 6.8612 - val_rmse: 9.1449\n",
      "Epoch 59/100\n",
      "12/12 [==============================] - 0s 4ms/step - loss: 96.7460 - mae: 7.5343 - rmse: 9.8360 - val_loss: 81.8540 - val_mae: 6.7817 - val_rmse: 9.0473\n",
      "Epoch 60/100\n",
      "12/12 [==============================] - 0s 4ms/step - loss: 94.2468 - mae: 7.4270 - rmse: 9.7081 - val_loss: 79.8096 - val_mae: 6.6804 - val_rmse: 8.9336\n",
      "Epoch 61/100\n",
      "12/12 [==============================] - 0s 4ms/step - loss: 91.8159 - mae: 7.3127 - rmse: 9.5821 - val_loss: 77.5357 - val_mae: 6.5600 - val_rmse: 8.8054\n",
      "Epoch 62/100\n",
      "12/12 [==============================] - 0s 4ms/step - loss: 89.3247 - mae: 7.1929 - rmse: 9.4512 - val_loss: 75.3935 - val_mae: 6.4469 - val_rmse: 8.6829\n",
      "Epoch 63/100\n",
      "12/12 [==============================] - 0s 4ms/step - loss: 86.8480 - mae: 7.0609 - rmse: 9.3192 - val_loss: 72.6309 - val_mae: 6.2808 - val_rmse: 8.5224\n",
      "Epoch 64/100\n",
      "12/12 [==============================] - 0s 4ms/step - loss: 84.2255 - mae: 6.9209 - rmse: 9.1774 - val_loss: 70.6306 - val_mae: 6.1722 - val_rmse: 8.4042\n",
      "Epoch 65/100\n",
      "12/12 [==============================] - 0s 4ms/step - loss: 81.5082 - mae: 6.7949 - rmse: 9.0282 - val_loss: 68.3605 - val_mae: 6.0487 - val_rmse: 8.2680\n",
      "Epoch 66/100\n",
      "12/12 [==============================] - 0s 4ms/step - loss: 78.8767 - mae: 6.6745 - rmse: 8.8813 - val_loss: 66.3198 - val_mae: 5.9411 - val_rmse: 8.1437\n",
      "Epoch 67/100\n",
      "12/12 [==============================] - 0s 4ms/step - loss: 76.2114 - mae: 6.5326 - rmse: 8.7299 - val_loss: 63.7006 - val_mae: 5.7878 - val_rmse: 7.9813\n",
      "Epoch 68/100\n",
      "12/12 [==============================] - 0s 4ms/step - loss: 73.5293 - mae: 6.3886 - rmse: 8.5749 - val_loss: 61.6729 - val_mae: 5.6743 - val_rmse: 7.8532\n",
      "Epoch 69/100\n",
      "12/12 [==============================] - 0s 4ms/step - loss: 71.0427 - mae: 6.2548 - rmse: 8.4287 - val_loss: 59.3756 - val_mae: 5.5405 - val_rmse: 7.7056\n",
      "Epoch 70/100\n",
      "12/12 [==============================] - 0s 4ms/step - loss: 68.5253 - mae: 6.1229 - rmse: 8.2780 - val_loss: 57.5703 - val_mae: 5.4491 - val_rmse: 7.5875\n",
      "Epoch 71/100\n",
      "12/12 [==============================] - 0s 4ms/step - loss: 66.0107 - mae: 5.9939 - rmse: 8.1247 - val_loss: 55.4288 - val_mae: 5.3233 - val_rmse: 7.4451\n",
      "Epoch 72/100\n",
      "12/12 [==============================] - 0s 4ms/step - loss: 63.4738 - mae: 5.8356 - rmse: 7.9670 - val_loss: 53.2066 - val_mae: 5.1726 - val_rmse: 7.2943\n",
      "Epoch 73/100\n",
      "12/12 [==============================] - 0s 4ms/step - loss: 61.1278 - mae: 5.7226 - rmse: 7.8184 - val_loss: 51.7283 - val_mae: 5.0994 - val_rmse: 7.1922\n",
      "Epoch 74/100\n",
      "12/12 [==============================] - 0s 5ms/step - loss: 58.8085 - mae: 5.5877 - rmse: 7.6687 - val_loss: 49.7597 - val_mae: 4.9669 - val_rmse: 7.0541\n",
      "Epoch 75/100\n",
      "12/12 [==============================] - 0s 5ms/step - loss: 56.7437 - mae: 5.4752 - rmse: 7.5328 - val_loss: 48.0282 - val_mae: 4.8557 - val_rmse: 6.9302\n",
      "Epoch 76/100\n",
      "12/12 [==============================] - 0s 4ms/step - loss: 54.5433 - mae: 5.3260 - rmse: 7.3853 - val_loss: 46.1874 - val_mae: 4.7187 - val_rmse: 6.7961\n",
      "Epoch 77/100\n",
      "12/12 [==============================] - 0s 4ms/step - loss: 52.3788 - mae: 5.2134 - rmse: 7.2373 - val_loss: 44.8830 - val_mae: 4.6431 - val_rmse: 6.6995\n",
      "Epoch 78/100\n",
      "12/12 [==============================] - 0s 4ms/step - loss: 50.6597 - mae: 5.1087 - rmse: 7.1176 - val_loss: 43.2193 - val_mae: 4.5198 - val_rmse: 6.5741\n",
      "Epoch 79/100\n",
      "12/12 [==============================] - 0s 4ms/step - loss: 48.8805 - mae: 5.0161 - rmse: 6.9915 - val_loss: 42.2900 - val_mae: 4.5053 - val_rmse: 6.5031\n",
      "Epoch 80/100\n",
      "12/12 [==============================] - 0s 4ms/step - loss: 47.0087 - mae: 4.9154 - rmse: 6.8563 - val_loss: 40.7836 - val_mae: 4.3788 - val_rmse: 6.3862\n",
      "Epoch 81/100\n",
      "12/12 [==============================] - 0s 4ms/step - loss: 45.4107 - mae: 4.8193 - rmse: 6.7387 - val_loss: 39.7277 - val_mae: 4.3197 - val_rmse: 6.3030\n",
      "Epoch 82/100\n",
      "12/12 [==============================] - 0s 4ms/step - loss: 43.9827 - mae: 4.7405 - rmse: 6.6319 - val_loss: 38.5926 - val_mae: 4.2307 - val_rmse: 6.2123\n",
      "Epoch 83/100\n",
      "12/12 [==============================] - 0s 4ms/step - loss: 42.5764 - mae: 4.6647 - rmse: 6.5251 - val_loss: 37.7917 - val_mae: 4.1871 - val_rmse: 6.1475\n",
      "Epoch 84/100\n",
      "12/12 [==============================] - 0s 4ms/step - loss: 41.4060 - mae: 4.6027 - rmse: 6.4347 - val_loss: 37.0478 - val_mae: 4.1638 - val_rmse: 6.0867\n",
      "Epoch 85/100\n",
      "12/12 [==============================] - 0s 4ms/step - loss: 40.1720 - mae: 4.5255 - rmse: 6.3381 - val_loss: 36.0112 - val_mae: 4.0649 - val_rmse: 6.0009\n",
      "Epoch 86/100\n",
      "12/12 [==============================] - 0s 4ms/step - loss: 39.1953 - mae: 4.4636 - rmse: 6.2606 - val_loss: 35.4582 - val_mae: 4.0681 - val_rmse: 5.9547\n",
      "Epoch 87/100\n",
      "12/12 [==============================] - 0s 4ms/step - loss: 38.1594 - mae: 4.4140 - rmse: 6.1773 - val_loss: 34.8844 - val_mae: 4.0361 - val_rmse: 5.9063\n",
      "Epoch 88/100\n",
      "12/12 [==============================] - 0s 4ms/step - loss: 37.3150 - mae: 4.3476 - rmse: 6.1086 - val_loss: 34.2001 - val_mae: 3.9664 - val_rmse: 5.8481\n",
      "Epoch 89/100\n",
      "12/12 [==============================] - 0s 4ms/step - loss: 36.4865 - mae: 4.3026 - rmse: 6.0404 - val_loss: 33.8030 - val_mae: 3.9536 - val_rmse: 5.8140\n",
      "Epoch 90/100\n",
      "12/12 [==============================] - 0s 4ms/step - loss: 35.7747 - mae: 4.2627 - rmse: 5.9812 - val_loss: 33.4531 - val_mae: 3.9481 - val_rmse: 5.7839\n",
      "Epoch 91/100\n",
      "12/12 [==============================] - 0s 5ms/step - loss: 35.2284 - mae: 4.2231 - rmse: 5.9354 - val_loss: 33.0921 - val_mae: 3.9251 - val_rmse: 5.7526\n",
      "Epoch 92/100\n",
      "12/12 [==============================] - 0s 4ms/step - loss: 34.5577 - mae: 4.1985 - rmse: 5.8786 - val_loss: 32.7941 - val_mae: 3.9148 - val_rmse: 5.7266\n",
      "Epoch 93/100\n",
      "12/12 [==============================] - 0s 4ms/step - loss: 34.0475 - mae: 4.1490 - rmse: 5.8350 - val_loss: 32.3107 - val_mae: 3.8454 - val_rmse: 5.6843\n",
      "Epoch 94/100\n",
      "12/12 [==============================] - 0s 4ms/step - loss: 33.5982 - mae: 4.1034 - rmse: 5.7964 - val_loss: 32.0638 - val_mae: 3.8375 - val_rmse: 5.6625\n",
      "Epoch 95/100\n",
      "12/12 [==============================] - 0s 4ms/step - loss: 33.1768 - mae: 4.0970 - rmse: 5.7599 - val_loss: 31.9754 - val_mae: 3.8785 - val_rmse: 5.6547\n",
      "Epoch 96/100\n",
      "12/12 [==============================] - 0s 4ms/step - loss: 32.8864 - mae: 4.0516 - rmse: 5.7347 - val_loss: 31.5986 - val_mae: 3.8046 - val_rmse: 5.6213\n"
     ]
    },
    {
     "name": "stdout",
     "output_type": "stream",
     "text": [
      "Epoch 97/100\n",
      "12/12 [==============================] - 0s 4ms/step - loss: 32.4992 - mae: 4.0425 - rmse: 5.7008 - val_loss: 31.6271 - val_mae: 3.8755 - val_rmse: 5.6238\n",
      "Epoch 98/100\n",
      "12/12 [==============================] - 0s 5ms/step - loss: 32.1247 - mae: 4.0151 - rmse: 5.6679 - val_loss: 31.3002 - val_mae: 3.8195 - val_rmse: 5.5947\n",
      "Epoch 99/100\n",
      "12/12 [==============================] - 0s 4ms/step - loss: 31.9323 - mae: 4.0000 - rmse: 5.6509 - val_loss: 31.1882 - val_mae: 3.8263 - val_rmse: 5.5846\n",
      "Epoch 100/100\n",
      "12/12 [==============================] - 0s 4ms/step - loss: 31.6665 - mae: 3.9564 - rmse: 5.6273 - val_loss: 30.9481 - val_mae: 3.7717 - val_rmse: 5.5631\n"
     ]
    }
   ],
   "source": [
    "# Fit your model\n",
    "\n",
    "history = reg_model.fit(X_train, y_train,\n",
    "                        validation_data = (X_test, y_test),\n",
    "                        epochs = 100)\n"
   ]
  },
  {
   "cell_type": "code",
   "execution_count": 14,
   "metadata": {
    "ExecuteTime": {
     "end_time": "2023-02-07T23:07:46.787397Z",
     "start_time": "2023-02-07T23:07:46.393450Z"
    },
    "colab": {
     "base_uri": "https://localhost:8080/",
     "height": 809
    },
    "executionInfo": {
     "elapsed": 992,
     "status": "ok",
     "timestamp": 1668628729005,
     "user": {
      "displayName": "Josh Johnson",
      "userId": "08606005069848925988"
     },
     "user_tz": 480
    },
    "id": "q8Kox9hOOq7w",
    "outputId": "298380b2-701a-48f1-837b-6cd5670ad239"
   },
   "outputs": [
    {
     "data": {
      "image/png": "[encoded data removed]",
      "text/plain": [
       "<Figure size 432x288 with 1 Axes>"
      ]
     },
     "metadata": {
      "needs_background": "light"
     },
     "output_type": "display_data"
    },
    {
     "data": {
      "image/png": "[encoded data removed]",
      "text/plain": [
       "<Figure size 432x288 with 1 Axes>"
      ]
     },
     "metadata": {
      "needs_background": "light"
     },
     "output_type": "display_data"
    },
    {
     "data": {
      "image/png": "[encoded data removed]",
      "text/plain": [
       "<Figure size 432x288 with 1 Axes>"
      ]
     },
     "metadata": {
      "needs_background": "light"
     },
     "output_type": "display_data"
    }
   ],
   "source": [
    "# Apply the custom function to see how your model is doing\n",
    "plot_history(history)"
   ]
  },
  {
   "cell_type": "markdown",
   "metadata": {
    "id": "1Ic8eFsL_x2m"
   },
   "source": [
    "## Evaluation\n"
   ]
  },
  {
   "cell_type": "code",
   "execution_count": 15,
   "metadata": {
    "ExecuteTime": {
     "end_time": "2023-02-07T23:07:46.945003Z",
     "start_time": "2023-02-07T23:07:46.788392Z"
    },
    "colab": {
     "base_uri": "https://localhost:8080/"
    },
    "executionInfo": {
     "elapsed": 623,
     "status": "ok",
     "timestamp": 1668628762329,
     "user": {
      "displayName": "Josh Johnson",
      "userId": "08606005069848925988"
     },
     "user_tz": 480
    },
    "id": "33J5dOt3A8ZO",
    "outputId": "0e027b47-e88a-4207-ec6f-f63e0b35fedb"
   },
   "outputs": [
    {
     "data": {
      "text/html": [
       "<div>\n",
       "<style scoped>\n",
       "    .dataframe tbody tr th:only-of-type {\n",
       "        vertical-align: middle;\n",
       "    }\n",
       "\n",
       "    .dataframe tbody tr th {\n",
       "        vertical-align: top;\n",
       "    }\n",
       "\n",
       "    .dataframe thead th {\n",
       "        text-align: right;\n",
       "    }\n",
       "</style>\n",
       "<table border=\"1\" class=\"dataframe\">\n",
       "  <thead>\n",
       "    <tr style=\"text-align: right;\">\n",
       "      <th></th>\n",
       "      <th>RMSE</th>\n",
       "      <th>MAE</th>\n",
       "      <th>R2</th>\n",
       "    </tr>\n",
       "    <tr>\n",
       "      <th>Model Name</th>\n",
       "      <th></th>\n",
       "      <th></th>\n",
       "      <th></th>\n",
       "    </tr>\n",
       "  </thead>\n",
       "  <tbody>\n",
       "    <tr>\n",
       "      <th>base_reg_train</th>\n",
       "      <td>5.605992</td>\n",
       "      <td>3.939426</td>\n",
       "      <td>0.645619</td>\n",
       "    </tr>\n",
       "    <tr>\n",
       "      <th>base_reg_test</th>\n",
       "      <td>5.563101</td>\n",
       "      <td>3.771664</td>\n",
       "      <td>0.558056</td>\n",
       "    </tr>\n",
       "  </tbody>\n",
       "</table>\n",
       "</div>"
      ],
      "text/plain": [
       "                    RMSE       MAE        R2\n",
       "Model Name                                  \n",
       "base_reg_train  5.605992  3.939426  0.645619\n",
       "base_reg_test   5.563101  3.771664  0.558056"
      ]
     },
     "execution_count": 15,
     "metadata": {},
     "output_type": "execute_result"
    }
   ],
   "source": [
    "# Make predictions and evaluate your model\n",
    "train_preds = reg_model.predict(X_train)\n",
    "test_preds = reg_model.predict(X_test)\n",
    "\n",
    "train_scores = eval_regression(y_train, train_preds, name='base_reg_train')\n",
    "test_scores = eval_regression(y_test, test_preds, name='base_reg_test')\n",
    "\n",
    "reg_scores = pd.concat([train_scores, test_scores])\n",
    "reg_scores"
   ]
  },
  {
   "cell_type": "markdown",
   "metadata": {
    "id": "EIOqYhS2Aj8o"
   },
   "source": [
    "# <center> Temperature Check: </center>\n",
    "## How confident do you feel in coding neural networks?\n",
    "0. What is a neural net?\n",
    "1. I know what a neural net is, but I wouldn't know how to start coding it.\n",
    "2. I kinda get how the code works, but need help from someone else to create my own.\n",
    "3. I understand the general idea, but would need a full example in front of me.\n",
    "4. I feel confident in coding a neural network with some reference materials.\n",
    "5. Move over, Josh.  I can finish this code-along."
   ]
  },
  {
   "cell_type": "markdown",
   "metadata": {
    "id": "NWaTq6c7FHlr"
   },
   "source": [
    "\n",
    "# Classification:\n",
    "\n",
    "Classification models are similar, except that we need to adjust:\n",
    "* The final activation of the output layer, and\n",
    "* the loss function and metrics in the compile step.\n",
    "\n",
    "We will also need to do some \n",
    "\n",
    "### Remember: \n",
    "MAE, MSE, RMSE, and R2 are regression metrics,\n",
    "\n",
    "accuracy, recall, precision, and F1-Score are classification metrics.\n",
    "\n",
    "## Classification Dataset\n",
    "The classification dataset describes diabetes rates among Pima Indians.  Each row is a person and this dataset includes features regarding health related measurements.  The target is binary and represents whether or not a person will diagnosed with diabetes.  This is another old dataset first presented in 1988.\n",
    "\n"
   ]
  },
  {
   "cell_type": "code",
   "execution_count": 16,
   "metadata": {
    "ExecuteTime": {
     "end_time": "2023-02-07T23:07:47.024371Z",
     "start_time": "2023-02-07T23:07:46.945980Z"
    },
    "colab": {
     "base_uri": "https://localhost:8080/",
     "height": 206
    },
    "executionInfo": {
     "elapsed": 186,
     "status": "ok",
     "timestamp": 1668628729386,
     "user": {
      "displayName": "Josh Johnson",
      "userId": "08606005069848925988"
     },
     "user_tz": 480
    },
    "id": "CN1zHoGcGeFN",
    "outputId": "7cb7bf46-2346-432e-cce5-d0a3596a9e6a"
   },
   "outputs": [
    {
     "data": {
      "text/html": [
       "<div>\n",
       "<style scoped>\n",
       "    .dataframe tbody tr th:only-of-type {\n",
       "        vertical-align: middle;\n",
       "    }\n",
       "\n",
       "    .dataframe tbody tr th {\n",
       "        vertical-align: top;\n",
       "    }\n",
       "\n",
       "    .dataframe thead th {\n",
       "        text-align: right;\n",
       "    }\n",
       "</style>\n",
       "<table border=\"1\" class=\"dataframe\">\n",
       "  <thead>\n",
       "    <tr style=\"text-align: right;\">\n",
       "      <th></th>\n",
       "      <th>Pregnancies</th>\n",
       "      <th>Glucose</th>\n",
       "      <th>BloodPressure</th>\n",
       "      <th>SkinThickness</th>\n",
       "      <th>Insulin</th>\n",
       "      <th>BMI</th>\n",
       "      <th>DiabetesPedigreeFunction</th>\n",
       "      <th>Age</th>\n",
       "      <th>Outcome</th>\n",
       "    </tr>\n",
       "  </thead>\n",
       "  <tbody>\n",
       "    <tr>\n",
       "      <th>0</th>\n",
       "      <td>6</td>\n",
       "      <td>148</td>\n",
       "      <td>72</td>\n",
       "      <td>35</td>\n",
       "      <td>0</td>\n",
       "      <td>33.6</td>\n",
       "      <td>0.627</td>\n",
       "      <td>50</td>\n",
       "      <td>1</td>\n",
       "    </tr>\n",
       "    <tr>\n",
       "      <th>1</th>\n",
       "      <td>1</td>\n",
       "      <td>85</td>\n",
       "      <td>66</td>\n",
       "      <td>29</td>\n",
       "      <td>0</td>\n",
       "      <td>26.6</td>\n",
       "      <td>0.351</td>\n",
       "      <td>31</td>\n",
       "      <td>0</td>\n",
       "    </tr>\n",
       "    <tr>\n",
       "      <th>2</th>\n",
       "      <td>8</td>\n",
       "      <td>183</td>\n",
       "      <td>64</td>\n",
       "      <td>0</td>\n",
       "      <td>0</td>\n",
       "      <td>23.3</td>\n",
       "      <td>0.672</td>\n",
       "      <td>32</td>\n",
       "      <td>1</td>\n",
       "    </tr>\n",
       "    <tr>\n",
       "      <th>3</th>\n",
       "      <td>1</td>\n",
       "      <td>89</td>\n",
       "      <td>66</td>\n",
       "      <td>23</td>\n",
       "      <td>94</td>\n",
       "      <td>28.1</td>\n",
       "      <td>0.167</td>\n",
       "      <td>21</td>\n",
       "      <td>0</td>\n",
       "    </tr>\n",
       "    <tr>\n",
       "      <th>4</th>\n",
       "      <td>0</td>\n",
       "      <td>137</td>\n",
       "      <td>40</td>\n",
       "      <td>35</td>\n",
       "      <td>168</td>\n",
       "      <td>43.1</td>\n",
       "      <td>2.288</td>\n",
       "      <td>33</td>\n",
       "      <td>1</td>\n",
       "    </tr>\n",
       "  </tbody>\n",
       "</table>\n",
       "</div>"
      ],
      "text/plain": [
       "   Pregnancies  Glucose  BloodPressure  SkinThickness  Insulin   BMI  \\\n",
       "0            6      148             72             35        0  33.6   \n",
       "1            1       85             66             29        0  26.6   \n",
       "2            8      183             64              0        0  23.3   \n",
       "3            1       89             66             23       94  28.1   \n",
       "4            0      137             40             35      168  43.1   \n",
       "\n",
       "   DiabetesPedigreeFunction  Age  Outcome  \n",
       "0                     0.627   50        1  \n",
       "1                     0.351   31        0  \n",
       "2                     0.672   32        1  \n",
       "3                     0.167   21        0  \n",
       "4                     2.288   33        1  "
      ]
     },
     "execution_count": 16,
     "metadata": {},
     "output_type": "execute_result"
    }
   ],
   "source": [
    "classification_df = pd.read_csv('https://raw.githubusercontent.com/ninja-josh/image-storage/main/diabetes.csv')\n",
    "classification_df.head()"
   ]
  },
  {
   "cell_type": "code",
   "execution_count": 17,
   "metadata": {
    "ExecuteTime": {
     "end_time": "2023-02-07T23:07:47.040328Z",
     "start_time": "2023-02-07T23:07:47.025369Z"
    },
    "colab": {
     "base_uri": "https://localhost:8080/"
    },
    "executionInfo": {
     "elapsed": 7,
     "status": "ok",
     "timestamp": 1668628729387,
     "user": {
      "displayName": "Josh Johnson",
      "userId": "08606005069848925988"
     },
     "user_tz": 480
    },
    "id": "isTaHNFpGjQH",
    "outputId": "bd3ca3b6-573e-436f-d302-9d9b5a6cf2dc"
   },
   "outputs": [
    {
     "name": "stdout",
     "output_type": "stream",
     "text": [
      "<class 'pandas.core.frame.DataFrame'>\n",
      "RangeIndex: 768 entries, 0 to 767\n",
      "Data columns (total 9 columns):\n",
      " #   Column                    Non-Null Count  Dtype  \n",
      "---  ------                    --------------  -----  \n",
      " 0   Pregnancies               768 non-null    int64  \n",
      " 1   Glucose                   768 non-null    int64  \n",
      " 2   BloodPressure             768 non-null    int64  \n",
      " 3   SkinThickness             768 non-null    int64  \n",
      " 4   Insulin                   768 non-null    int64  \n",
      " 5   BMI                       768 non-null    float64\n",
      " 6   DiabetesPedigreeFunction  768 non-null    float64\n",
      " 7   Age                       768 non-null    int64  \n",
      " 8   Outcome                   768 non-null    int64  \n",
      "dtypes: float64(2), int64(7)\n",
      "memory usage: 54.1 KB\n"
     ]
    }
   ],
   "source": [
    "classification_df.info()"
   ]
  },
  {
   "cell_type": "code",
   "execution_count": 18,
   "metadata": {
    "ExecuteTime": {
     "end_time": "2023-02-07T23:07:47.056285Z",
     "start_time": "2023-02-07T23:07:47.041326Z"
    },
    "colab": {
     "base_uri": "https://localhost:8080/"
    },
    "executionInfo": {
     "elapsed": 5,
     "status": "ok",
     "timestamp": 1668628729387,
     "user": {
      "displayName": "Josh Johnson",
      "userId": "08606005069848925988"
     },
     "user_tz": 480
    },
    "id": "HtZv-V73Gmjv",
    "outputId": "d4a7ff53-899b-4bb1-8331-b6cca47d4d41"
   },
   "outputs": [
    {
     "data": {
      "text/plain": [
       "False"
      ]
     },
     "execution_count": 18,
     "metadata": {},
     "output_type": "execute_result"
    }
   ],
   "source": [
    "classification_df.duplicated().any()"
   ]
  },
  {
   "cell_type": "code",
   "execution_count": 19,
   "metadata": {
    "ExecuteTime": {
     "end_time": "2023-02-07T23:07:47.088200Z",
     "start_time": "2023-02-07T23:07:47.057283Z"
    },
    "colab": {
     "base_uri": "https://localhost:8080/",
     "height": 300
    },
    "executionInfo": {
     "elapsed": 231,
     "status": "ok",
     "timestamp": 1668628729614,
     "user": {
      "displayName": "Josh Johnson",
      "userId": "08606005069848925988"
     },
     "user_tz": 480
    },
    "id": "sdF3qT-9Gp_s",
    "outputId": "3f4c264b-0bf5-403e-b676-ebb0c9e25aba"
   },
   "outputs": [
    {
     "data": {
      "text/html": [
       "<div>\n",
       "<style scoped>\n",
       "    .dataframe tbody tr th:only-of-type {\n",
       "        vertical-align: middle;\n",
       "    }\n",
       "\n",
       "    .dataframe tbody tr th {\n",
       "        vertical-align: top;\n",
       "    }\n",
       "\n",
       "    .dataframe thead th {\n",
       "        text-align: right;\n",
       "    }\n",
       "</style>\n",
       "<table border=\"1\" class=\"dataframe\">\n",
       "  <thead>\n",
       "    <tr style=\"text-align: right;\">\n",
       "      <th></th>\n",
       "      <th>Pregnancies</th>\n",
       "      <th>Glucose</th>\n",
       "      <th>BloodPressure</th>\n",
       "      <th>SkinThickness</th>\n",
       "      <th>Insulin</th>\n",
       "      <th>BMI</th>\n",
       "      <th>DiabetesPedigreeFunction</th>\n",
       "      <th>Age</th>\n",
       "      <th>Outcome</th>\n",
       "    </tr>\n",
       "  </thead>\n",
       "  <tbody>\n",
       "    <tr>\n",
       "      <th>count</th>\n",
       "      <td>768.000000</td>\n",
       "      <td>768.000000</td>\n",
       "      <td>768.000000</td>\n",
       "      <td>768.000000</td>\n",
       "      <td>768.000000</td>\n",
       "      <td>768.000000</td>\n",
       "      <td>768.000000</td>\n",
       "      <td>768.000000</td>\n",
       "      <td>768.000000</td>\n",
       "    </tr>\n",
       "    <tr>\n",
       "      <th>mean</th>\n",
       "      <td>3.845052</td>\n",
       "      <td>120.894531</td>\n",
       "      <td>69.105469</td>\n",
       "      <td>20.536458</td>\n",
       "      <td>79.799479</td>\n",
       "      <td>31.992578</td>\n",
       "      <td>0.471876</td>\n",
       "      <td>33.240885</td>\n",
       "      <td>0.348958</td>\n",
       "    </tr>\n",
       "    <tr>\n",
       "      <th>std</th>\n",
       "      <td>3.369578</td>\n",
       "      <td>31.972618</td>\n",
       "      <td>19.355807</td>\n",
       "      <td>15.952218</td>\n",
       "      <td>115.244002</td>\n",
       "      <td>7.884160</td>\n",
       "      <td>0.331329</td>\n",
       "      <td>11.760232</td>\n",
       "      <td>0.476951</td>\n",
       "    </tr>\n",
       "    <tr>\n",
       "      <th>min</th>\n",
       "      <td>0.000000</td>\n",
       "      <td>0.000000</td>\n",
       "      <td>0.000000</td>\n",
       "      <td>0.000000</td>\n",
       "      <td>0.000000</td>\n",
       "      <td>0.000000</td>\n",
       "      <td>0.078000</td>\n",
       "      <td>21.000000</td>\n",
       "      <td>0.000000</td>\n",
       "    </tr>\n",
       "    <tr>\n",
       "      <th>25%</th>\n",
       "      <td>1.000000</td>\n",
       "      <td>99.000000</td>\n",
       "      <td>62.000000</td>\n",
       "      <td>0.000000</td>\n",
       "      <td>0.000000</td>\n",
       "      <td>27.300000</td>\n",
       "      <td>0.243750</td>\n",
       "      <td>24.000000</td>\n",
       "      <td>0.000000</td>\n",
       "    </tr>\n",
       "    <tr>\n",
       "      <th>50%</th>\n",
       "      <td>3.000000</td>\n",
       "      <td>117.000000</td>\n",
       "      <td>72.000000</td>\n",
       "      <td>23.000000</td>\n",
       "      <td>30.500000</td>\n",
       "      <td>32.000000</td>\n",
       "      <td>0.372500</td>\n",
       "      <td>29.000000</td>\n",
       "      <td>0.000000</td>\n",
       "    </tr>\n",
       "    <tr>\n",
       "      <th>75%</th>\n",
       "      <td>6.000000</td>\n",
       "      <td>140.250000</td>\n",
       "      <td>80.000000</td>\n",
       "      <td>32.000000</td>\n",
       "      <td>127.250000</td>\n",
       "      <td>36.600000</td>\n",
       "      <td>0.626250</td>\n",
       "      <td>41.000000</td>\n",
       "      <td>1.000000</td>\n",
       "    </tr>\n",
       "    <tr>\n",
       "      <th>max</th>\n",
       "      <td>17.000000</td>\n",
       "      <td>199.000000</td>\n",
       "      <td>122.000000</td>\n",
       "      <td>99.000000</td>\n",
       "      <td>846.000000</td>\n",
       "      <td>67.100000</td>\n",
       "      <td>2.420000</td>\n",
       "      <td>81.000000</td>\n",
       "      <td>1.000000</td>\n",
       "    </tr>\n",
       "  </tbody>\n",
       "</table>\n",
       "</div>"
      ],
      "text/plain": [
       "       Pregnancies     Glucose  BloodPressure  SkinThickness     Insulin  \\\n",
       "count   768.000000  768.000000     768.000000     768.000000  768.000000   \n",
       "mean      3.845052  120.894531      69.105469      20.536458   79.799479   \n",
       "std       3.369578   31.972618      19.355807      15.952218  115.244002   \n",
       "min       0.000000    0.000000       0.000000       0.000000    0.000000   \n",
       "25%       1.000000   99.000000      62.000000       0.000000    0.000000   \n",
       "50%       3.000000  117.000000      72.000000      23.000000   30.500000   \n",
       "75%       6.000000  140.250000      80.000000      32.000000  127.250000   \n",
       "max      17.000000  199.000000     122.000000      99.000000  846.000000   \n",
       "\n",
       "              BMI  DiabetesPedigreeFunction         Age     Outcome  \n",
       "count  768.000000                768.000000  768.000000  768.000000  \n",
       "mean    31.992578                  0.471876   33.240885    0.348958  \n",
       "std      7.884160                  0.331329   11.760232    0.476951  \n",
       "min      0.000000                  0.078000   21.000000    0.000000  \n",
       "25%     27.300000                  0.243750   24.000000    0.000000  \n",
       "50%     32.000000                  0.372500   29.000000    0.000000  \n",
       "75%     36.600000                  0.626250   41.000000    1.000000  \n",
       "max     67.100000                  2.420000   81.000000    1.000000  "
      ]
     },
     "execution_count": 19,
     "metadata": {},
     "output_type": "execute_result"
    }
   ],
   "source": [
    "classification_df.describe()"
   ]
  },
  {
   "cell_type": "markdown",
   "metadata": {
    "id": "l8cjiy3BGvLa"
   },
   "source": [
    "We see minimums for Glucose, BloodPression, SkinThickness, Insulin, and BMI of 0s.  Those are impossible for humans, so lets drop those rows."
   ]
  },
  {
   "cell_type": "code",
   "execution_count": 20,
   "metadata": {
    "ExecuteTime": {
     "end_time": "2023-02-07T23:07:47.118119Z",
     "start_time": "2023-02-07T23:07:47.089197Z"
    },
    "colab": {
     "base_uri": "https://localhost:8080/",
     "height": 300
    },
    "executionInfo": {
     "elapsed": 4,
     "status": "ok",
     "timestamp": 1668628729614,
     "user": {
      "displayName": "Josh Johnson",
      "userId": "08606005069848925988"
     },
     "user_tz": 480
    },
    "id": "TwzoeFVWG6Dd",
    "outputId": "ab76e131-ad3f-4d47-dc32-03f052aa8c9f"
   },
   "outputs": [
    {
     "data": {
      "text/html": [
       "<div>\n",
       "<style scoped>\n",
       "    .dataframe tbody tr th:only-of-type {\n",
       "        vertical-align: middle;\n",
       "    }\n",
       "\n",
       "    .dataframe tbody tr th {\n",
       "        vertical-align: top;\n",
       "    }\n",
       "\n",
       "    .dataframe thead th {\n",
       "        text-align: right;\n",
       "    }\n",
       "</style>\n",
       "<table border=\"1\" class=\"dataframe\">\n",
       "  <thead>\n",
       "    <tr style=\"text-align: right;\">\n",
       "      <th></th>\n",
       "      <th>Pregnancies</th>\n",
       "      <th>Glucose</th>\n",
       "      <th>BloodPressure</th>\n",
       "      <th>SkinThickness</th>\n",
       "      <th>Insulin</th>\n",
       "      <th>BMI</th>\n",
       "      <th>DiabetesPedigreeFunction</th>\n",
       "      <th>Age</th>\n",
       "      <th>Outcome</th>\n",
       "    </tr>\n",
       "  </thead>\n",
       "  <tbody>\n",
       "    <tr>\n",
       "      <th>count</th>\n",
       "      <td>392.000000</td>\n",
       "      <td>392.000000</td>\n",
       "      <td>392.000000</td>\n",
       "      <td>392.000000</td>\n",
       "      <td>392.000000</td>\n",
       "      <td>392.000000</td>\n",
       "      <td>392.000000</td>\n",
       "      <td>392.000000</td>\n",
       "      <td>392.000000</td>\n",
       "    </tr>\n",
       "    <tr>\n",
       "      <th>mean</th>\n",
       "      <td>3.301020</td>\n",
       "      <td>122.627551</td>\n",
       "      <td>70.663265</td>\n",
       "      <td>29.145408</td>\n",
       "      <td>156.056122</td>\n",
       "      <td>33.086224</td>\n",
       "      <td>0.523046</td>\n",
       "      <td>30.864796</td>\n",
       "      <td>0.331633</td>\n",
       "    </tr>\n",
       "    <tr>\n",
       "      <th>std</th>\n",
       "      <td>3.211424</td>\n",
       "      <td>30.860781</td>\n",
       "      <td>12.496092</td>\n",
       "      <td>10.516424</td>\n",
       "      <td>118.841690</td>\n",
       "      <td>7.027659</td>\n",
       "      <td>0.345488</td>\n",
       "      <td>10.200777</td>\n",
       "      <td>0.471401</td>\n",
       "    </tr>\n",
       "    <tr>\n",
       "      <th>min</th>\n",
       "      <td>0.000000</td>\n",
       "      <td>56.000000</td>\n",
       "      <td>24.000000</td>\n",
       "      <td>7.000000</td>\n",
       "      <td>14.000000</td>\n",
       "      <td>18.200000</td>\n",
       "      <td>0.085000</td>\n",
       "      <td>21.000000</td>\n",
       "      <td>0.000000</td>\n",
       "    </tr>\n",
       "    <tr>\n",
       "      <th>25%</th>\n",
       "      <td>1.000000</td>\n",
       "      <td>99.000000</td>\n",
       "      <td>62.000000</td>\n",
       "      <td>21.000000</td>\n",
       "      <td>76.750000</td>\n",
       "      <td>28.400000</td>\n",
       "      <td>0.269750</td>\n",
       "      <td>23.000000</td>\n",
       "      <td>0.000000</td>\n",
       "    </tr>\n",
       "    <tr>\n",
       "      <th>50%</th>\n",
       "      <td>2.000000</td>\n",
       "      <td>119.000000</td>\n",
       "      <td>70.000000</td>\n",
       "      <td>29.000000</td>\n",
       "      <td>125.500000</td>\n",
       "      <td>33.200000</td>\n",
       "      <td>0.449500</td>\n",
       "      <td>27.000000</td>\n",
       "      <td>0.000000</td>\n",
       "    </tr>\n",
       "    <tr>\n",
       "      <th>75%</th>\n",
       "      <td>5.000000</td>\n",
       "      <td>143.000000</td>\n",
       "      <td>78.000000</td>\n",
       "      <td>37.000000</td>\n",
       "      <td>190.000000</td>\n",
       "      <td>37.100000</td>\n",
       "      <td>0.687000</td>\n",
       "      <td>36.000000</td>\n",
       "      <td>1.000000</td>\n",
       "    </tr>\n",
       "    <tr>\n",
       "      <th>max</th>\n",
       "      <td>17.000000</td>\n",
       "      <td>198.000000</td>\n",
       "      <td>110.000000</td>\n",
       "      <td>63.000000</td>\n",
       "      <td>846.000000</td>\n",
       "      <td>67.100000</td>\n",
       "      <td>2.420000</td>\n",
       "      <td>81.000000</td>\n",
       "      <td>1.000000</td>\n",
       "    </tr>\n",
       "  </tbody>\n",
       "</table>\n",
       "</div>"
      ],
      "text/plain": [
       "       Pregnancies     Glucose  BloodPressure  SkinThickness     Insulin  \\\n",
       "count   392.000000  392.000000     392.000000     392.000000  392.000000   \n",
       "mean      3.301020  122.627551      70.663265      29.145408  156.056122   \n",
       "std       3.211424   30.860781      12.496092      10.516424  118.841690   \n",
       "min       0.000000   56.000000      24.000000       7.000000   14.000000   \n",
       "25%       1.000000   99.000000      62.000000      21.000000   76.750000   \n",
       "50%       2.000000  119.000000      70.000000      29.000000  125.500000   \n",
       "75%       5.000000  143.000000      78.000000      37.000000  190.000000   \n",
       "max      17.000000  198.000000     110.000000      63.000000  846.000000   \n",
       "\n",
       "              BMI  DiabetesPedigreeFunction         Age     Outcome  \n",
       "count  392.000000                392.000000  392.000000  392.000000  \n",
       "mean    33.086224                  0.523046   30.864796    0.331633  \n",
       "std      7.027659                  0.345488   10.200777    0.471401  \n",
       "min     18.200000                  0.085000   21.000000    0.000000  \n",
       "25%     28.400000                  0.269750   23.000000    0.000000  \n",
       "50%     33.200000                  0.449500   27.000000    0.000000  \n",
       "75%     37.100000                  0.687000   36.000000    1.000000  \n",
       "max     67.100000                  2.420000   81.000000    1.000000  "
      ]
     },
     "execution_count": 20,
     "metadata": {},
     "output_type": "execute_result"
    }
   ],
   "source": [
    "no_glucose = classification_df['Glucose'] == 0\n",
    "no_blood = classification_df['BloodPressure'] == 0\n",
    "no_skin = classification_df['SkinThickness'] == 0\n",
    "no_insulin = classification_df['Insulin'] == 0\n",
    "no_bmi = classification_df['BMI'] == 0\n",
    "\n",
    "#class_df_clean excludes rows that have no values == 0 in the above columns\n",
    "class_df_clean = classification_df[~(no_glucose |\n",
    "                                     no_blood |\n",
    "                                     no_skin |\n",
    "                                     no_insulin |\n",
    "                                     no_bmi)]\n",
    "class_df_clean.describe()"
   ]
  },
  {
   "cell_type": "markdown",
   "metadata": {
    "id": "oQqWsTbaM5It"
   },
   "source": [
    "We lost a lot of data, going from 768 samples to 392 samples.  In the future we might impute this data using means, medians, or other imputation strategies.  For this exercise we won't focus on that."
   ]
  },
  {
   "cell_type": "code",
   "execution_count": 21,
   "metadata": {
    "ExecuteTime": {
     "end_time": "2023-02-07T23:07:47.134076Z",
     "start_time": "2023-02-07T23:07:47.119116Z"
    },
    "executionInfo": {
     "elapsed": 4,
     "status": "ok",
     "timestamp": 1668628729615,
     "user": {
      "displayName": "Josh Johnson",
      "userId": "08606005069848925988"
     },
     "user_tz": 480
    },
    "id": "JjREwrWgGPtP"
   },
   "outputs": [],
   "source": [
    "# Define X and y and train test split\n",
    "X = class_df_clean.drop(columns = 'Outcome')\n",
    "y = class_df_clean['Outcome']\n",
    "\n",
    "X_train, X_test, y_train, y_test = train_test_split(X, y, random_state = 42, stratify = y)"
   ]
  },
  {
   "cell_type": "code",
   "execution_count": 22,
   "metadata": {
    "ExecuteTime": {
     "end_time": "2023-02-07T23:07:47.149036Z",
     "start_time": "2023-02-07T23:07:47.135076Z"
    },
    "executionInfo": {
     "elapsed": 4,
     "status": "ok",
     "timestamp": 1668628729615,
     "user": {
      "displayName": "Josh Johnson",
      "userId": "08606005069848925988"
     },
     "user_tz": 480
    },
    "id": "EKPiCOByPOfF"
   },
   "outputs": [],
   "source": [
    "# Scale the data\n",
    "scaler = MinMaxScaler()\n",
    "scaler.fit(X_train)\n",
    "X_train = scaler.transform(X_train)\n",
    "X_test = scaler.transform(X_test)"
   ]
  },
  {
   "cell_type": "markdown",
   "metadata": {
    "id": "1TWU179nQIdt"
   },
   "source": [
    "## Build the Classification Model\n",
    "\n",
    "We need to do a few things differently here because this is a binary classification:\n",
    "\n",
    "1. The activation of our final layer needs to be 'sigmoid'.  \n",
    "\n",
    "\n",
    "(If this were multiclass classification, we would set the final activation as 'softmax' and the number of output nodes would be the number of classes in our y_train.)"
   ]
  },
  {
   "cell_type": "code",
   "execution_count": 23,
   "metadata": {
    "ExecuteTime": {
     "end_time": "2023-02-07T23:07:47.195911Z",
     "start_time": "2023-02-07T23:07:47.151032Z"
    },
    "colab": {
     "base_uri": "https://localhost:8080/"
    },
    "executionInfo": {
     "elapsed": 182,
     "status": "ok",
     "timestamp": 1668628729794,
     "user": {
      "displayName": "Josh Johnson",
      "userId": "08606005069848925988"
     },
     "user_tz": 480
    },
    "id": "lAwy3AXrPjwH",
    "outputId": "12e535ba-4c85-4959-ddf8-b2c1f1455896"
   },
   "outputs": [
    {
     "name": "stdout",
     "output_type": "stream",
     "text": [
      "Model: \"sequential\"\n",
      "_________________________________________________________________\n",
      " Layer (type)                Output Shape              Param #   \n",
      "=================================================================\n",
      " dense (Dense)               (None, 10)                90        \n",
      "                                                                 \n",
      " dense_1 (Dense)             (None, 5)                 55        \n",
      "                                                                 \n",
      " dense_2 (Dense)             (None, 2)                 12        \n",
      "                                                                 \n",
      " dense_3 (Dense)             (None, 1)                 3         \n",
      "                                                                 \n",
      "=================================================================\n",
      "Total params: 160\n",
      "Trainable params: 160\n",
      "Non-trainable params: 0\n",
      "_________________________________________________________________\n"
     ]
    }
   ],
   "source": [
    "# Set random seeds\n",
    "keras.backend.clear_session()\n",
    "np.random.seed(42)\n",
    "tf.random.set_seed(42)\n",
    "\n",
    "# Build your model\n",
    "\n",
    "class_model = Sequential()\n",
    "class_model.add(Dense(10, activation= 'relu', input_dim=X_train.shape[1]))\n",
    "class_model.add(Dense(5, activation= 'relu'))\n",
    "class_model.add(Dense(2, activation= 'relu'))\n",
    "\n",
    "# One output node with 'sigmoid' activation\n",
    "class_model.add(Dense(1, activation='sigmoid'))\n",
    "class_model.summary()"
   ]
  },
  {
   "cell_type": "markdown",
   "metadata": {
    "id": "4nrwLXyKPpO1"
   },
   "source": [
    "## More Changes for Classification:\n",
    "\n",
    "1.  We need to change our loss to 'binary_crossentropy'.  If this were multiclass we would use 'categorical_crossentrobpy'.\n",
    "\n",
    "2. Our metrics should be classification metrics.  We will use accuracy.  We could also use recall or precision. "
   ]
  },
  {
   "cell_type": "code",
   "execution_count": 24,
   "metadata": {
    "ExecuteTime": {
     "end_time": "2023-02-07T23:07:47.211439Z",
     "start_time": "2023-02-07T23:07:47.197476Z"
    },
    "executionInfo": {
     "elapsed": 3,
     "status": "ok",
     "timestamp": 1668628729795,
     "user": {
      "displayName": "Josh Johnson",
      "userId": "08606005069848925988"
     },
     "user_tz": 480
    },
    "id": "x0_9VF6gJQYm"
   },
   "outputs": [],
   "source": [
    "from tensorflow.keras.metrics import Precision, Recall"
   ]
  },
  {
   "cell_type": "code",
   "execution_count": 25,
   "metadata": {
    "ExecuteTime": {
     "end_time": "2023-02-07T23:07:47.227396Z",
     "start_time": "2023-02-07T23:07:47.212436Z"
    },
    "executionInfo": {
     "elapsed": 3,
     "status": "ok",
     "timestamp": 1668628729795,
     "user": {
      "displayName": "Josh Johnson",
      "userId": "08606005069848925988"
     },
     "user_tz": 480
    },
    "id": "GOe9CMP2PtDT"
   },
   "outputs": [],
   "source": [
    "# # Compile your model, set metrics = ['acc']\n",
    "precision = Precision(name='precision')\n",
    "recall = Recall(name='recall')\n",
    "class_model.compile(optimizer = 'adam', loss = 'bce', \n",
    "                    metrics = ['accuracy', precision, recall]) \n"
   ]
  },
  {
   "cell_type": "code",
   "execution_count": 26,
   "metadata": {
    "ExecuteTime": {
     "end_time": "2023-02-07T23:08:07.667854Z",
     "start_time": "2023-02-07T23:07:47.228393Z"
    },
    "executionInfo": {
     "elapsed": 21445,
     "status": "ok",
     "timestamp": 1668628751237,
     "user": {
      "displayName": "Josh Johnson",
      "userId": "08606005069848925988"
     },
     "user_tz": 480
    },
    "id": "vScTvfoKOVLO"
   },
   "outputs": [
    {
     "name": "stdout",
     "output_type": "stream",
     "text": [
      "Epoch 1/300\n",
      "10/10 [==============================] - 1s 30ms/step - loss: 0.6924 - accuracy: 0.6667 - precision: 0.0000e+00 - recall: 0.0000e+00 - val_loss: 0.6916 - val_accuracy: 0.6735 - val_precision: 0.0000e+00 - val_recall: 0.0000e+00\n",
      "Epoch 2/300\n",
      "10/10 [==============================] - 0s 7ms/step - loss: 0.6906 - accuracy: 0.6667 - precision: 0.0000e+00 - recall: 0.0000e+00 - val_loss: 0.6884 - val_accuracy: 0.6735 - val_precision: 0.0000e+00 - val_recall: 0.0000e+00\n",
      "Epoch 3/300\n",
      "10/10 [==============================] - 0s 7ms/step - loss: 0.6875 - accuracy: 0.6667 - precision: 0.0000e+00 - recall: 0.0000e+00 - val_loss: 0.6839 - val_accuracy: 0.6735 - val_precision: 0.0000e+00 - val_recall: 0.0000e+00\n",
      "Epoch 4/300\n",
      "10/10 [==============================] - 0s 6ms/step - loss: 0.6838 - accuracy: 0.6667 - precision: 0.0000e+00 - recall: 0.0000e+00 - val_loss: 0.6800 - val_accuracy: 0.6735 - val_precision: 0.0000e+00 - val_recall: 0.0000e+00\n",
      "Epoch 5/300\n",
      "10/10 [==============================] - 0s 7ms/step - loss: 0.6801 - accuracy: 0.6667 - precision: 0.0000e+00 - recall: 0.0000e+00 - val_loss: 0.6762 - val_accuracy: 0.6735 - val_precision: 0.0000e+00 - val_recall: 0.0000e+00\n",
      "Epoch 6/300\n",
      "10/10 [==============================] - 0s 7ms/step - loss: 0.6770 - accuracy: 0.6667 - precision: 0.0000e+00 - recall: 0.0000e+00 - val_loss: 0.6722 - val_accuracy: 0.6735 - val_precision: 0.0000e+00 - val_recall: 0.0000e+00\n",
      "Epoch 7/300\n",
      "10/10 [==============================] - 0s 7ms/step - loss: 0.6734 - accuracy: 0.6667 - precision: 0.0000e+00 - recall: 0.0000e+00 - val_loss: 0.6685 - val_accuracy: 0.6735 - val_precision: 0.0000e+00 - val_recall: 0.0000e+00\n",
      "Epoch 8/300\n",
      "10/10 [==============================] - 0s 6ms/step - loss: 0.6700 - accuracy: 0.6667 - precision: 0.0000e+00 - recall: 0.0000e+00 - val_loss: 0.6647 - val_accuracy: 0.6735 - val_precision: 0.0000e+00 - val_recall: 0.0000e+00\n",
      "Epoch 9/300\n",
      "10/10 [==============================] - 0s 7ms/step - loss: 0.6668 - accuracy: 0.6667 - precision: 0.0000e+00 - recall: 0.0000e+00 - val_loss: 0.6609 - val_accuracy: 0.6735 - val_precision: 0.0000e+00 - val_recall: 0.0000e+00\n",
      "Epoch 10/300\n",
      "10/10 [==============================] - 0s 7ms/step - loss: 0.6631 - accuracy: 0.6667 - precision: 0.0000e+00 - recall: 0.0000e+00 - val_loss: 0.6569 - val_accuracy: 0.6735 - val_precision: 0.0000e+00 - val_recall: 0.0000e+00\n",
      "Epoch 11/300\n",
      "10/10 [==============================] - 0s 7ms/step - loss: 0.6595 - accuracy: 0.6667 - precision: 0.0000e+00 - recall: 0.0000e+00 - val_loss: 0.6526 - val_accuracy: 0.6735 - val_precision: 0.0000e+00 - val_recall: 0.0000e+00\n",
      "Epoch 12/300\n",
      "10/10 [==============================] - 0s 6ms/step - loss: 0.6555 - accuracy: 0.6667 - precision: 0.0000e+00 - recall: 0.0000e+00 - val_loss: 0.6486 - val_accuracy: 0.6735 - val_precision: 0.0000e+00 - val_recall: 0.0000e+00\n",
      "Epoch 13/300\n",
      "10/10 [==============================] - 0s 7ms/step - loss: 0.6508 - accuracy: 0.6667 - precision: 0.0000e+00 - recall: 0.0000e+00 - val_loss: 0.6443 - val_accuracy: 0.6735 - val_precision: 0.0000e+00 - val_recall: 0.0000e+00\n",
      "Epoch 14/300\n",
      "10/10 [==============================] - 0s 7ms/step - loss: 0.6465 - accuracy: 0.6667 - precision: 0.0000e+00 - recall: 0.0000e+00 - val_loss: 0.6400 - val_accuracy: 0.6735 - val_precision: 0.0000e+00 - val_recall: 0.0000e+00\n",
      "Epoch 15/300\n",
      "10/10 [==============================] - 0s 6ms/step - loss: 0.6425 - accuracy: 0.6667 - precision: 0.0000e+00 - recall: 0.0000e+00 - val_loss: 0.6355 - val_accuracy: 0.6735 - val_precision: 0.0000e+00 - val_recall: 0.0000e+00\n",
      "Epoch 16/300\n",
      "10/10 [==============================] - 0s 7ms/step - loss: 0.6385 - accuracy: 0.6667 - precision: 0.0000e+00 - recall: 0.0000e+00 - val_loss: 0.6323 - val_accuracy: 0.6735 - val_precision: 0.0000e+00 - val_recall: 0.0000e+00\n",
      "Epoch 17/300\n",
      "10/10 [==============================] - 0s 7ms/step - loss: 0.6347 - accuracy: 0.6667 - precision: 0.0000e+00 - recall: 0.0000e+00 - val_loss: 0.6294 - val_accuracy: 0.6735 - val_precision: 0.0000e+00 - val_recall: 0.0000e+00\n",
      "Epoch 18/300\n",
      "10/10 [==============================] - 0s 6ms/step - loss: 0.6315 - accuracy: 0.6667 - precision: 0.0000e+00 - recall: 0.0000e+00 - val_loss: 0.6272 - val_accuracy: 0.6735 - val_precision: 0.0000e+00 - val_recall: 0.0000e+00\n",
      "Epoch 19/300\n",
      "10/10 [==============================] - 0s 7ms/step - loss: 0.6283 - accuracy: 0.6667 - precision: 0.0000e+00 - recall: 0.0000e+00 - val_loss: 0.6233 - val_accuracy: 0.6735 - val_precision: 0.0000e+00 - val_recall: 0.0000e+00\n",
      "Epoch 20/300\n",
      "10/10 [==============================] - 0s 7ms/step - loss: 0.6247 - accuracy: 0.6667 - precision: 0.0000e+00 - recall: 0.0000e+00 - val_loss: 0.6189 - val_accuracy: 0.6735 - val_precision: 0.0000e+00 - val_recall: 0.0000e+00\n",
      "Epoch 21/300\n",
      "10/10 [==============================] - 0s 8ms/step - loss: 0.6209 - accuracy: 0.6667 - precision: 0.0000e+00 - recall: 0.0000e+00 - val_loss: 0.6152 - val_accuracy: 0.6735 - val_precision: 0.0000e+00 - val_recall: 0.0000e+00\n",
      "Epoch 22/300\n",
      "10/10 [==============================] - 0s 7ms/step - loss: 0.6176 - accuracy: 0.6667 - precision: 0.0000e+00 - recall: 0.0000e+00 - val_loss: 0.6114 - val_accuracy: 0.6735 - val_precision: 0.0000e+00 - val_recall: 0.0000e+00\n",
      "Epoch 23/300\n",
      "10/10 [==============================] - 0s 7ms/step - loss: 0.6136 - accuracy: 0.6667 - precision: 0.0000e+00 - recall: 0.0000e+00 - val_loss: 0.6076 - val_accuracy: 0.6735 - val_precision: 0.0000e+00 - val_recall: 0.0000e+00\n",
      "Epoch 24/300\n",
      "10/10 [==============================] - 0s 6ms/step - loss: 0.6103 - accuracy: 0.6667 - precision: 0.0000e+00 - recall: 0.0000e+00 - val_loss: 0.6051 - val_accuracy: 0.6735 - val_precision: 0.0000e+00 - val_recall: 0.0000e+00\n",
      "Epoch 25/300\n",
      "10/10 [==============================] - 0s 7ms/step - loss: 0.6071 - accuracy: 0.6667 - precision: 0.0000e+00 - recall: 0.0000e+00 - val_loss: 0.6019 - val_accuracy: 0.6735 - val_precision: 0.0000e+00 - val_recall: 0.0000e+00\n",
      "Epoch 26/300\n",
      "10/10 [==============================] - 0s 7ms/step - loss: 0.6038 - accuracy: 0.6667 - precision: 0.0000e+00 - recall: 0.0000e+00 - val_loss: 0.5992 - val_accuracy: 0.6735 - val_precision: 0.0000e+00 - val_recall: 0.0000e+00\n",
      "Epoch 27/300\n",
      "10/10 [==============================] - 0s 7ms/step - loss: 0.6006 - accuracy: 0.6667 - precision: 0.0000e+00 - recall: 0.0000e+00 - val_loss: 0.5959 - val_accuracy: 0.6735 - val_precision: 0.0000e+00 - val_recall: 0.0000e+00\n",
      "Epoch 28/300\n",
      "10/10 [==============================] - 0s 7ms/step - loss: 0.5977 - accuracy: 0.6667 - precision: 0.0000e+00 - recall: 0.0000e+00 - val_loss: 0.5927 - val_accuracy: 0.6735 - val_precision: 0.0000e+00 - val_recall: 0.0000e+00\n",
      "Epoch 29/300\n",
      "10/10 [==============================] - 0s 6ms/step - loss: 0.5941 - accuracy: 0.6667 - precision: 0.0000e+00 - recall: 0.0000e+00 - val_loss: 0.5906 - val_accuracy: 0.6735 - val_precision: 0.0000e+00 - val_recall: 0.0000e+00\n",
      "Epoch 30/300\n",
      "10/10 [==============================] - 0s 6ms/step - loss: 0.5912 - accuracy: 0.6667 - precision: 0.0000e+00 - recall: 0.0000e+00 - val_loss: 0.5877 - val_accuracy: 0.6735 - val_precision: 0.0000e+00 - val_recall: 0.0000e+00\n",
      "Epoch 31/300\n",
      "10/10 [==============================] - 0s 7ms/step - loss: 0.5877 - accuracy: 0.6667 - precision: 0.0000e+00 - recall: 0.0000e+00 - val_loss: 0.5845 - val_accuracy: 0.6735 - val_precision: 0.0000e+00 - val_recall: 0.0000e+00\n",
      "Epoch 32/300\n",
      "10/10 [==============================] - 0s 7ms/step - loss: 0.5846 - accuracy: 0.6667 - precision: 0.0000e+00 - recall: 0.0000e+00 - val_loss: 0.5814 - val_accuracy: 0.6735 - val_precision: 0.0000e+00 - val_recall: 0.0000e+00\n",
      "Epoch 33/300\n",
      "10/10 [==============================] - 0s 7ms/step - loss: 0.5822 - accuracy: 0.6667 - precision: 0.0000e+00 - recall: 0.0000e+00 - val_loss: 0.5785 - val_accuracy: 0.6735 - val_precision: 0.0000e+00 - val_recall: 0.0000e+00\n",
      "Epoch 34/300\n",
      "10/10 [==============================] - 0s 7ms/step - loss: 0.5787 - accuracy: 0.6667 - precision: 0.0000e+00 - recall: 0.0000e+00 - val_loss: 0.5760 - val_accuracy: 0.6735 - val_precision: 0.0000e+00 - val_recall: 0.0000e+00\n",
      "Epoch 35/300\n"
     ]
    },
    {
     "name": "stdout",
     "output_type": "stream",
     "text": [
      "10/10 [==============================] - 0s 6ms/step - loss: 0.5756 - accuracy: 0.6667 - precision: 0.0000e+00 - recall: 0.0000e+00 - val_loss: 0.5739 - val_accuracy: 0.6735 - val_precision: 0.0000e+00 - val_recall: 0.0000e+00\n",
      "Epoch 36/300\n",
      "10/10 [==============================] - 0s 6ms/step - loss: 0.5723 - accuracy: 0.6667 - precision: 0.0000e+00 - recall: 0.0000e+00 - val_loss: 0.5708 - val_accuracy: 0.6735 - val_precision: 0.0000e+00 - val_recall: 0.0000e+00\n",
      "Epoch 37/300\n",
      "10/10 [==============================] - 0s 7ms/step - loss: 0.5700 - accuracy: 0.6667 - precision: 0.0000e+00 - recall: 0.0000e+00 - val_loss: 0.5684 - val_accuracy: 0.6735 - val_precision: 0.0000e+00 - val_recall: 0.0000e+00\n",
      "Epoch 38/300\n",
      "10/10 [==============================] - 0s 7ms/step - loss: 0.5657 - accuracy: 0.6667 - precision: 0.0000e+00 - recall: 0.0000e+00 - val_loss: 0.5682 - val_accuracy: 0.6735 - val_precision: 0.0000e+00 - val_recall: 0.0000e+00\n",
      "Epoch 39/300\n",
      "10/10 [==============================] - 0s 7ms/step - loss: 0.5649 - accuracy: 0.6667 - precision: 0.0000e+00 - recall: 0.0000e+00 - val_loss: 0.5675 - val_accuracy: 0.6735 - val_precision: 0.0000e+00 - val_recall: 0.0000e+00\n",
      "Epoch 40/300\n",
      "10/10 [==============================] - 0s 6ms/step - loss: 0.5607 - accuracy: 0.6667 - precision: 0.0000e+00 - recall: 0.0000e+00 - val_loss: 0.5630 - val_accuracy: 0.6735 - val_precision: 0.0000e+00 - val_recall: 0.0000e+00\n",
      "Epoch 41/300\n",
      "10/10 [==============================] - 0s 7ms/step - loss: 0.5586 - accuracy: 0.6667 - precision: 0.0000e+00 - recall: 0.0000e+00 - val_loss: 0.5602 - val_accuracy: 0.6735 - val_precision: 0.0000e+00 - val_recall: 0.0000e+00\n",
      "Epoch 42/300\n",
      "10/10 [==============================] - 0s 7ms/step - loss: 0.5549 - accuracy: 0.6667 - precision: 0.0000e+00 - recall: 0.0000e+00 - val_loss: 0.5584 - val_accuracy: 0.6735 - val_precision: 0.0000e+00 - val_recall: 0.0000e+00\n",
      "Epoch 43/300\n",
      "10/10 [==============================] - 0s 7ms/step - loss: 0.5518 - accuracy: 0.6667 - precision: 0.0000e+00 - recall: 0.0000e+00 - val_loss: 0.5590 - val_accuracy: 0.6735 - val_precision: 0.0000e+00 - val_recall: 0.0000e+00\n",
      "Epoch 44/300\n",
      "10/10 [==============================] - 0s 7ms/step - loss: 0.5503 - accuracy: 0.6667 - precision: 0.0000e+00 - recall: 0.0000e+00 - val_loss: 0.5551 - val_accuracy: 0.6735 - val_precision: 0.0000e+00 - val_recall: 0.0000e+00\n",
      "Epoch 45/300\n",
      "10/10 [==============================] - 0s 7ms/step - loss: 0.5469 - accuracy: 0.6667 - precision: 0.0000e+00 - recall: 0.0000e+00 - val_loss: 0.5553 - val_accuracy: 0.6735 - val_precision: 0.0000e+00 - val_recall: 0.0000e+00\n",
      "Epoch 46/300\n",
      "10/10 [==============================] - 0s 6ms/step - loss: 0.5454 - accuracy: 0.6667 - precision: 0.0000e+00 - recall: 0.0000e+00 - val_loss: 0.5538 - val_accuracy: 0.6735 - val_precision: 0.0000e+00 - val_recall: 0.0000e+00\n",
      "Epoch 47/300\n",
      "10/10 [==============================] - 0s 6ms/step - loss: 0.5421 - accuracy: 0.6667 - precision: 0.0000e+00 - recall: 0.0000e+00 - val_loss: 0.5503 - val_accuracy: 0.6735 - val_precision: 0.0000e+00 - val_recall: 0.0000e+00\n",
      "Epoch 48/300\n",
      "10/10 [==============================] - 0s 7ms/step - loss: 0.5388 - accuracy: 0.6667 - precision: 0.0000e+00 - recall: 0.0000e+00 - val_loss: 0.5478 - val_accuracy: 0.6735 - val_precision: 0.0000e+00 - val_recall: 0.0000e+00\n",
      "Epoch 49/300\n",
      "10/10 [==============================] - 0s 6ms/step - loss: 0.5370 - accuracy: 0.6667 - precision: 0.0000e+00 - recall: 0.0000e+00 - val_loss: 0.5461 - val_accuracy: 0.6735 - val_precision: 0.0000e+00 - val_recall: 0.0000e+00\n",
      "Epoch 50/300\n",
      "10/10 [==============================] - 0s 6ms/step - loss: 0.5343 - accuracy: 0.6667 - precision: 0.0000e+00 - recall: 0.0000e+00 - val_loss: 0.5449 - val_accuracy: 0.6735 - val_precision: 0.0000e+00 - val_recall: 0.0000e+00\n",
      "Epoch 51/300\n",
      "10/10 [==============================] - 0s 6ms/step - loss: 0.5319 - accuracy: 0.6667 - precision: 0.0000e+00 - recall: 0.0000e+00 - val_loss: 0.5436 - val_accuracy: 0.6735 - val_precision: 0.0000e+00 - val_recall: 0.0000e+00\n",
      "Epoch 52/300\n",
      "10/10 [==============================] - 0s 7ms/step - loss: 0.5296 - accuracy: 0.6667 - precision: 0.0000e+00 - recall: 0.0000e+00 - val_loss: 0.5421 - val_accuracy: 0.6735 - val_precision: 0.0000e+00 - val_recall: 0.0000e+00\n",
      "Epoch 53/300\n",
      "10/10 [==============================] - 0s 6ms/step - loss: 0.5275 - accuracy: 0.6667 - precision: 0.0000e+00 - recall: 0.0000e+00 - val_loss: 0.5421 - val_accuracy: 0.6735 - val_precision: 0.0000e+00 - val_recall: 0.0000e+00\n",
      "Epoch 54/300\n",
      "10/10 [==============================] - 0s 6ms/step - loss: 0.5256 - accuracy: 0.6667 - precision: 0.0000e+00 - recall: 0.0000e+00 - val_loss: 0.5413 - val_accuracy: 0.6735 - val_precision: 0.0000e+00 - val_recall: 0.0000e+00\n",
      "Epoch 55/300\n",
      "10/10 [==============================] - 0s 7ms/step - loss: 0.5230 - accuracy: 0.6667 - precision: 0.0000e+00 - recall: 0.0000e+00 - val_loss: 0.5382 - val_accuracy: 0.6735 - val_precision: 0.0000e+00 - val_recall: 0.0000e+00\n",
      "Epoch 56/300\n",
      "10/10 [==============================] - 0s 6ms/step - loss: 0.5211 - accuracy: 0.6667 - precision: 0.0000e+00 - recall: 0.0000e+00 - val_loss: 0.5380 - val_accuracy: 0.6735 - val_precision: 0.0000e+00 - val_recall: 0.0000e+00\n",
      "Epoch 57/300\n",
      "10/10 [==============================] - 0s 7ms/step - loss: 0.5195 - accuracy: 0.6667 - precision: 0.0000e+00 - recall: 0.0000e+00 - val_loss: 0.5370 - val_accuracy: 0.6735 - val_precision: 0.0000e+00 - val_recall: 0.0000e+00\n",
      "Epoch 58/300\n",
      "10/10 [==============================] - 0s 6ms/step - loss: 0.5176 - accuracy: 0.6667 - precision: 0.0000e+00 - recall: 0.0000e+00 - val_loss: 0.5361 - val_accuracy: 0.6735 - val_precision: 0.0000e+00 - val_recall: 0.0000e+00\n",
      "Epoch 59/300\n",
      "10/10 [==============================] - 0s 6ms/step - loss: 0.5166 - accuracy: 0.6667 - precision: 0.0000e+00 - recall: 0.0000e+00 - val_loss: 0.5359 - val_accuracy: 0.6735 - val_precision: 0.0000e+00 - val_recall: 0.0000e+00\n",
      "Epoch 60/300\n",
      "10/10 [==============================] - 0s 6ms/step - loss: 0.5141 - accuracy: 0.6667 - precision: 0.0000e+00 - recall: 0.0000e+00 - val_loss: 0.5340 - val_accuracy: 0.6735 - val_precision: 0.0000e+00 - val_recall: 0.0000e+00\n",
      "Epoch 61/300\n",
      "10/10 [==============================] - 0s 7ms/step - loss: 0.5121 - accuracy: 0.6667 - precision: 0.0000e+00 - recall: 0.0000e+00 - val_loss: 0.5337 - val_accuracy: 0.6735 - val_precision: 0.0000e+00 - val_recall: 0.0000e+00\n",
      "Epoch 62/300\n",
      "10/10 [==============================] - 0s 7ms/step - loss: 0.5102 - accuracy: 0.6667 - precision: 0.0000e+00 - recall: 0.0000e+00 - val_loss: 0.5331 - val_accuracy: 0.6735 - val_precision: 0.0000e+00 - val_recall: 0.0000e+00\n",
      "Epoch 63/300\n",
      "10/10 [==============================] - 0s 7ms/step - loss: 0.5087 - accuracy: 0.6667 - precision: 0.0000e+00 - recall: 0.0000e+00 - val_loss: 0.5330 - val_accuracy: 0.6735 - val_precision: 0.0000e+00 - val_recall: 0.0000e+00\n",
      "Epoch 64/300\n",
      "10/10 [==============================] - 0s 6ms/step - loss: 0.5075 - accuracy: 0.6667 - precision: 0.0000e+00 - recall: 0.0000e+00 - val_loss: 0.5313 - val_accuracy: 0.6735 - val_precision: 0.0000e+00 - val_recall: 0.0000e+00\n",
      "Epoch 65/300\n",
      "10/10 [==============================] - 0s 6ms/step - loss: 0.5054 - accuracy: 0.6667 - precision: 0.0000e+00 - recall: 0.0000e+00 - val_loss: 0.5329 - val_accuracy: 0.6735 - val_precision: 0.0000e+00 - val_recall: 0.0000e+00\n",
      "Epoch 66/300\n",
      "10/10 [==============================] - 0s 6ms/step - loss: 0.5041 - accuracy: 0.6667 - precision: 0.0000e+00 - recall: 0.0000e+00 - val_loss: 0.5311 - val_accuracy: 0.6735 - val_precision: 0.0000e+00 - val_recall: 0.0000e+00\n",
      "Epoch 67/300\n",
      "10/10 [==============================] - 0s 6ms/step - loss: 0.5017 - accuracy: 0.6667 - precision: 0.0000e+00 - recall: 0.0000e+00 - val_loss: 0.5303 - val_accuracy: 0.6735 - val_precision: 0.0000e+00 - val_recall: 0.0000e+00\n",
      "Epoch 68/300\n",
      "10/10 [==============================] - 0s 6ms/step - loss: 0.4999 - accuracy: 0.6667 - precision: 0.0000e+00 - recall: 0.0000e+00 - val_loss: 0.5290 - val_accuracy: 0.6735 - val_precision: 0.0000e+00 - val_recall: 0.0000e+00\n",
      "Epoch 69/300\n"
     ]
    },
    {
     "name": "stdout",
     "output_type": "stream",
     "text": [
      "10/10 [==============================] - 0s 6ms/step - loss: 0.4993 - accuracy: 0.6667 - precision: 0.0000e+00 - recall: 0.0000e+00 - val_loss: 0.5286 - val_accuracy: 0.6735 - val_precision: 0.0000e+00 - val_recall: 0.0000e+00\n",
      "Epoch 70/300\n",
      "10/10 [==============================] - 0s 6ms/step - loss: 0.4972 - accuracy: 0.6667 - precision: 0.0000e+00 - recall: 0.0000e+00 - val_loss: 0.5290 - val_accuracy: 0.6735 - val_precision: 0.0000e+00 - val_recall: 0.0000e+00\n",
      "Epoch 71/300\n",
      "10/10 [==============================] - 0s 6ms/step - loss: 0.4953 - accuracy: 0.6667 - precision: 0.0000e+00 - recall: 0.0000e+00 - val_loss: 0.5282 - val_accuracy: 0.6735 - val_precision: 0.0000e+00 - val_recall: 0.0000e+00\n",
      "Epoch 72/300\n",
      "10/10 [==============================] - 0s 6ms/step - loss: 0.4935 - accuracy: 0.6667 - precision: 0.0000e+00 - recall: 0.0000e+00 - val_loss: 0.5289 - val_accuracy: 0.6735 - val_precision: 0.0000e+00 - val_recall: 0.0000e+00\n",
      "Epoch 73/300\n",
      "10/10 [==============================] - 0s 7ms/step - loss: 0.4918 - accuracy: 0.6667 - precision: 0.0000e+00 - recall: 0.0000e+00 - val_loss: 0.5274 - val_accuracy: 0.6735 - val_precision: 0.0000e+00 - val_recall: 0.0000e+00\n",
      "Epoch 74/300\n",
      "10/10 [==============================] - 0s 6ms/step - loss: 0.4912 - accuracy: 0.6667 - precision: 0.0000e+00 - recall: 0.0000e+00 - val_loss: 0.5264 - val_accuracy: 0.6735 - val_precision: 0.0000e+00 - val_recall: 0.0000e+00\n",
      "Epoch 75/300\n",
      "10/10 [==============================] - 0s 6ms/step - loss: 0.4889 - accuracy: 0.6667 - precision: 0.0000e+00 - recall: 0.0000e+00 - val_loss: 0.5260 - val_accuracy: 0.6735 - val_precision: 0.0000e+00 - val_recall: 0.0000e+00\n",
      "Epoch 76/300\n",
      "10/10 [==============================] - 0s 7ms/step - loss: 0.4877 - accuracy: 0.6667 - precision: 0.0000e+00 - recall: 0.0000e+00 - val_loss: 0.5254 - val_accuracy: 0.6735 - val_precision: 0.0000e+00 - val_recall: 0.0000e+00\n",
      "Epoch 77/300\n",
      "10/10 [==============================] - 0s 7ms/step - loss: 0.4863 - accuracy: 0.6667 - precision: 0.0000e+00 - recall: 0.0000e+00 - val_loss: 0.5251 - val_accuracy: 0.6735 - val_precision: 0.0000e+00 - val_recall: 0.0000e+00\n",
      "Epoch 78/300\n",
      "10/10 [==============================] - 0s 6ms/step - loss: 0.4850 - accuracy: 0.6667 - precision: 0.0000e+00 - recall: 0.0000e+00 - val_loss: 0.5259 - val_accuracy: 0.6735 - val_precision: 0.0000e+00 - val_recall: 0.0000e+00\n",
      "Epoch 79/300\n",
      "10/10 [==============================] - 0s 7ms/step - loss: 0.4840 - accuracy: 0.6667 - precision: 0.0000e+00 - recall: 0.0000e+00 - val_loss: 0.5241 - val_accuracy: 0.6735 - val_precision: 0.0000e+00 - val_recall: 0.0000e+00\n",
      "Epoch 80/300\n",
      "10/10 [==============================] - 0s 7ms/step - loss: 0.4820 - accuracy: 0.6667 - precision: 0.0000e+00 - recall: 0.0000e+00 - val_loss: 0.5246 - val_accuracy: 0.6735 - val_precision: 0.0000e+00 - val_recall: 0.0000e+00\n",
      "Epoch 81/300\n",
      "10/10 [==============================] - 0s 6ms/step - loss: 0.4806 - accuracy: 0.6667 - precision: 0.0000e+00 - recall: 0.0000e+00 - val_loss: 0.5250 - val_accuracy: 0.6735 - val_precision: 0.0000e+00 - val_recall: 0.0000e+00\n",
      "Epoch 82/300\n",
      "10/10 [==============================] - 0s 6ms/step - loss: 0.4791 - accuracy: 0.6667 - precision: 0.0000e+00 - recall: 0.0000e+00 - val_loss: 0.5256 - val_accuracy: 0.6735 - val_precision: 0.0000e+00 - val_recall: 0.0000e+00\n",
      "Epoch 83/300\n",
      "10/10 [==============================] - 0s 6ms/step - loss: 0.4796 - accuracy: 0.6667 - precision: 0.0000e+00 - recall: 0.0000e+00 - val_loss: 0.5255 - val_accuracy: 0.6735 - val_precision: 0.0000e+00 - val_recall: 0.0000e+00\n",
      "Epoch 84/300\n",
      "10/10 [==============================] - 0s 6ms/step - loss: 0.4787 - accuracy: 0.6667 - precision: 0.0000e+00 - recall: 0.0000e+00 - val_loss: 0.5246 - val_accuracy: 0.6735 - val_precision: 0.0000e+00 - val_recall: 0.0000e+00\n",
      "Epoch 85/300\n",
      "10/10 [==============================] - 0s 6ms/step - loss: 0.4774 - accuracy: 0.6667 - precision: 0.0000e+00 - recall: 0.0000e+00 - val_loss: 0.5246 - val_accuracy: 0.6735 - val_precision: 0.0000e+00 - val_recall: 0.0000e+00\n",
      "Epoch 86/300\n",
      "10/10 [==============================] - 0s 6ms/step - loss: 0.4758 - accuracy: 0.6667 - precision: 0.0000e+00 - recall: 0.0000e+00 - val_loss: 0.5242 - val_accuracy: 0.6735 - val_precision: 0.0000e+00 - val_recall: 0.0000e+00\n",
      "Epoch 87/300\n",
      "10/10 [==============================] - 0s 7ms/step - loss: 0.4737 - accuracy: 0.7007 - precision: 0.6042 - recall: 0.2959 - val_loss: 0.5236 - val_accuracy: 0.7755 - val_precision: 0.6667 - val_recall: 0.6250\n",
      "Epoch 88/300\n",
      "10/10 [==============================] - 0s 7ms/step - loss: 0.4722 - accuracy: 0.7823 - precision: 0.7125 - recall: 0.5816 - val_loss: 0.5229 - val_accuracy: 0.7857 - val_precision: 0.6897 - val_recall: 0.6250\n",
      "Epoch 89/300\n",
      "10/10 [==============================] - 0s 7ms/step - loss: 0.4716 - accuracy: 0.7789 - precision: 0.7089 - recall: 0.5714 - val_loss: 0.5219 - val_accuracy: 0.7857 - val_precision: 0.7037 - val_recall: 0.5938\n",
      "Epoch 90/300\n",
      "10/10 [==============================] - 0s 6ms/step - loss: 0.4702 - accuracy: 0.7823 - precision: 0.7179 - recall: 0.5714 - val_loss: 0.5226 - val_accuracy: 0.7755 - val_precision: 0.6667 - val_recall: 0.6250\n",
      "Epoch 91/300\n",
      "10/10 [==============================] - 0s 6ms/step - loss: 0.4697 - accuracy: 0.7857 - precision: 0.7059 - recall: 0.6122 - val_loss: 0.5229 - val_accuracy: 0.7245 - val_precision: 0.5714 - val_recall: 0.6250\n",
      "Epoch 92/300\n",
      "10/10 [==============================] - 0s 6ms/step - loss: 0.4694 - accuracy: 0.7857 - precision: 0.7108 - recall: 0.6020 - val_loss: 0.5224 - val_accuracy: 0.7755 - val_precision: 0.6667 - val_recall: 0.6250\n",
      "Epoch 93/300\n",
      "10/10 [==============================] - 0s 7ms/step - loss: 0.4674 - accuracy: 0.7891 - precision: 0.7195 - recall: 0.6020 - val_loss: 0.5224 - val_accuracy: 0.7551 - val_precision: 0.6250 - val_recall: 0.6250\n",
      "Epoch 94/300\n",
      "10/10 [==============================] - 0s 6ms/step - loss: 0.4665 - accuracy: 0.7891 - precision: 0.7143 - recall: 0.6122 - val_loss: 0.5222 - val_accuracy: 0.7449 - val_precision: 0.6061 - val_recall: 0.6250\n",
      "Epoch 95/300\n",
      "10/10 [==============================] - 0s 6ms/step - loss: 0.4656 - accuracy: 0.7857 - precision: 0.7108 - recall: 0.6020 - val_loss: 0.5219 - val_accuracy: 0.7653 - val_precision: 0.6452 - val_recall: 0.6250\n",
      "Epoch 96/300\n",
      "10/10 [==============================] - 0s 6ms/step - loss: 0.4647 - accuracy: 0.7823 - precision: 0.7125 - recall: 0.5816 - val_loss: 0.5211 - val_accuracy: 0.7857 - val_precision: 0.7037 - val_recall: 0.5938\n",
      "Epoch 97/300\n",
      "10/10 [==============================] - 0s 7ms/step - loss: 0.4656 - accuracy: 0.7789 - precision: 0.7143 - recall: 0.5612 - val_loss: 0.5210 - val_accuracy: 0.7857 - val_precision: 0.7037 - val_recall: 0.5938\n",
      "Epoch 98/300\n",
      "10/10 [==============================] - 0s 6ms/step - loss: 0.4645 - accuracy: 0.7959 - precision: 0.7262 - recall: 0.6224 - val_loss: 0.5216 - val_accuracy: 0.7347 - val_precision: 0.5882 - val_recall: 0.6250\n",
      "Epoch 99/300\n",
      "10/10 [==============================] - 0s 6ms/step - loss: 0.4619 - accuracy: 0.7891 - precision: 0.7143 - recall: 0.6122 - val_loss: 0.5217 - val_accuracy: 0.7449 - val_precision: 0.6061 - val_recall: 0.6250\n",
      "Epoch 100/300\n",
      "10/10 [==============================] - 0s 6ms/step - loss: 0.4622 - accuracy: 0.7857 - precision: 0.7108 - recall: 0.6020 - val_loss: 0.5218 - val_accuracy: 0.7449 - val_precision: 0.6061 - val_recall: 0.6250\n",
      "Epoch 101/300\n",
      "10/10 [==============================] - 0s 6ms/step - loss: 0.4605 - accuracy: 0.7891 - precision: 0.7093 - recall: 0.6224 - val_loss: 0.5210 - val_accuracy: 0.7143 - val_precision: 0.5556 - val_recall: 0.6250\n",
      "Epoch 102/300\n",
      "10/10 [==============================] - 0s 7ms/step - loss: 0.4601 - accuracy: 0.7891 - precision: 0.7093 - recall: 0.6224 - val_loss: 0.5215 - val_accuracy: 0.7347 - val_precision: 0.5882 - val_recall: 0.6250\n",
      "Epoch 103/300\n",
      "10/10 [==============================] - 0s 6ms/step - loss: 0.4590 - accuracy: 0.7857 - precision: 0.7011 - recall: 0.6224 - val_loss: 0.5210 - val_accuracy: 0.7347 - val_precision: 0.5882 - val_recall: 0.6250\n",
      "Epoch 104/300\n"
     ]
    },
    {
     "name": "stdout",
     "output_type": "stream",
     "text": [
      "10/10 [==============================] - 0s 7ms/step - loss: 0.4578 - accuracy: 0.7925 - precision: 0.7176 - recall: 0.6224 - val_loss: 0.5211 - val_accuracy: 0.7551 - val_precision: 0.6250 - val_recall: 0.6250\n",
      "Epoch 105/300\n",
      "10/10 [==============================] - 0s 7ms/step - loss: 0.4580 - accuracy: 0.7891 - precision: 0.7093 - recall: 0.6224 - val_loss: 0.5205 - val_accuracy: 0.7143 - val_precision: 0.5556 - val_recall: 0.6250\n",
      "Epoch 106/300\n",
      "10/10 [==============================] - 0s 6ms/step - loss: 0.4572 - accuracy: 0.7925 - precision: 0.7033 - recall: 0.6531 - val_loss: 0.5200 - val_accuracy: 0.7143 - val_precision: 0.5556 - val_recall: 0.6250\n",
      "Epoch 107/300\n",
      "10/10 [==============================] - 0s 6ms/step - loss: 0.4554 - accuracy: 0.7925 - precision: 0.7079 - recall: 0.6429 - val_loss: 0.5207 - val_accuracy: 0.7347 - val_precision: 0.5882 - val_recall: 0.6250\n",
      "Epoch 108/300\n",
      "10/10 [==============================] - 0s 7ms/step - loss: 0.4549 - accuracy: 0.7857 - precision: 0.7011 - recall: 0.6224 - val_loss: 0.5214 - val_accuracy: 0.7347 - val_precision: 0.5882 - val_recall: 0.6250\n",
      "Epoch 109/300\n",
      "10/10 [==============================] - 0s 7ms/step - loss: 0.4546 - accuracy: 0.7891 - precision: 0.7093 - recall: 0.6224 - val_loss: 0.5209 - val_accuracy: 0.7347 - val_precision: 0.5882 - val_recall: 0.6250\n",
      "Epoch 110/300\n",
      "10/10 [==============================] - 0s 7ms/step - loss: 0.4549 - accuracy: 0.7891 - precision: 0.7000 - recall: 0.6429 - val_loss: 0.5202 - val_accuracy: 0.7143 - val_precision: 0.5556 - val_recall: 0.6250\n",
      "Epoch 111/300\n",
      "10/10 [==============================] - 0s 7ms/step - loss: 0.4540 - accuracy: 0.7823 - precision: 0.6932 - recall: 0.6224 - val_loss: 0.5204 - val_accuracy: 0.7551 - val_precision: 0.6250 - val_recall: 0.6250\n",
      "Epoch 112/300\n",
      "10/10 [==============================] - 0s 7ms/step - loss: 0.4547 - accuracy: 0.7857 - precision: 0.7160 - recall: 0.5918 - val_loss: 0.5209 - val_accuracy: 0.7449 - val_precision: 0.6061 - val_recall: 0.6250\n",
      "Epoch 113/300\n",
      "10/10 [==============================] - 0s 6ms/step - loss: 0.4522 - accuracy: 0.7891 - precision: 0.7093 - recall: 0.6224 - val_loss: 0.5201 - val_accuracy: 0.7143 - val_precision: 0.5556 - val_recall: 0.6250\n",
      "Epoch 114/300\n",
      "10/10 [==============================] - 0s 7ms/step - loss: 0.4537 - accuracy: 0.7959 - precision: 0.7021 - recall: 0.6735 - val_loss: 0.5185 - val_accuracy: 0.7143 - val_precision: 0.5556 - val_recall: 0.6250\n",
      "Epoch 115/300\n",
      "10/10 [==============================] - 0s 6ms/step - loss: 0.4504 - accuracy: 0.7959 - precision: 0.6979 - recall: 0.6837 - val_loss: 0.5201 - val_accuracy: 0.7143 - val_precision: 0.5556 - val_recall: 0.6250\n",
      "Epoch 116/300\n",
      "10/10 [==============================] - 0s 7ms/step - loss: 0.4493 - accuracy: 0.7959 - precision: 0.7065 - recall: 0.6633 - val_loss: 0.5212 - val_accuracy: 0.7245 - val_precision: 0.5714 - val_recall: 0.6250\n",
      "Epoch 117/300\n",
      "10/10 [==============================] - 0s 6ms/step - loss: 0.4492 - accuracy: 0.7925 - precision: 0.7126 - recall: 0.6327 - val_loss: 0.5214 - val_accuracy: 0.7347 - val_precision: 0.5882 - val_recall: 0.6250\n",
      "Epoch 118/300\n",
      "10/10 [==============================] - 0s 7ms/step - loss: 0.4492 - accuracy: 0.7891 - precision: 0.7045 - recall: 0.6327 - val_loss: 0.5209 - val_accuracy: 0.7143 - val_precision: 0.5556 - val_recall: 0.6250\n",
      "Epoch 119/300\n",
      "10/10 [==============================] - 0s 7ms/step - loss: 0.4484 - accuracy: 0.7959 - precision: 0.7065 - recall: 0.6633 - val_loss: 0.5195 - val_accuracy: 0.7143 - val_precision: 0.5556 - val_recall: 0.6250\n",
      "Epoch 120/300\n",
      "10/10 [==============================] - 0s 7ms/step - loss: 0.4487 - accuracy: 0.7925 - precision: 0.6832 - recall: 0.7041 - val_loss: 0.5183 - val_accuracy: 0.7245 - val_precision: 0.5641 - val_recall: 0.6875\n",
      "Epoch 121/300\n",
      "10/10 [==============================] - 0s 7ms/step - loss: 0.4471 - accuracy: 0.8061 - precision: 0.7030 - recall: 0.7245 - val_loss: 0.5201 - val_accuracy: 0.7143 - val_precision: 0.5556 - val_recall: 0.6250\n",
      "Epoch 122/300\n",
      "10/10 [==============================] - 0s 6ms/step - loss: 0.4459 - accuracy: 0.7925 - precision: 0.6947 - recall: 0.6735 - val_loss: 0.5206 - val_accuracy: 0.7143 - val_precision: 0.5556 - val_recall: 0.6250\n",
      "Epoch 123/300\n",
      "10/10 [==============================] - 0s 7ms/step - loss: 0.4458 - accuracy: 0.7959 - precision: 0.7065 - recall: 0.6633 - val_loss: 0.5210 - val_accuracy: 0.7143 - val_precision: 0.5556 - val_recall: 0.6250\n",
      "Epoch 124/300\n",
      "10/10 [==============================] - 0s 6ms/step - loss: 0.4448 - accuracy: 0.8061 - precision: 0.7158 - recall: 0.6939 - val_loss: 0.5202 - val_accuracy: 0.7143 - val_precision: 0.5556 - val_recall: 0.6250\n",
      "Epoch 125/300\n",
      "10/10 [==============================] - 0s 6ms/step - loss: 0.4439 - accuracy: 0.8061 - precision: 0.7158 - recall: 0.6939 - val_loss: 0.5207 - val_accuracy: 0.7143 - val_precision: 0.5556 - val_recall: 0.6250\n",
      "Epoch 126/300\n",
      "10/10 [==============================] - 0s 6ms/step - loss: 0.4440 - accuracy: 0.7993 - precision: 0.7097 - recall: 0.6735 - val_loss: 0.5208 - val_accuracy: 0.7143 - val_precision: 0.5556 - val_recall: 0.6250\n",
      "Epoch 127/300\n",
      "10/10 [==============================] - 0s 6ms/step - loss: 0.4437 - accuracy: 0.7959 - precision: 0.7065 - recall: 0.6633 - val_loss: 0.5204 - val_accuracy: 0.7143 - val_precision: 0.5556 - val_recall: 0.6250\n",
      "Epoch 128/300\n",
      "10/10 [==============================] - 0s 6ms/step - loss: 0.4434 - accuracy: 0.7993 - precision: 0.7010 - recall: 0.6939 - val_loss: 0.5199 - val_accuracy: 0.7143 - val_precision: 0.5556 - val_recall: 0.6250\n",
      "Epoch 129/300\n",
      "10/10 [==============================] - 0s 6ms/step - loss: 0.4432 - accuracy: 0.7993 - precision: 0.7053 - recall: 0.6837 - val_loss: 0.5200 - val_accuracy: 0.7143 - val_precision: 0.5556 - val_recall: 0.6250\n",
      "Epoch 130/300\n",
      "10/10 [==============================] - 0s 6ms/step - loss: 0.4428 - accuracy: 0.8061 - precision: 0.7071 - recall: 0.7143 - val_loss: 0.5198 - val_accuracy: 0.7143 - val_precision: 0.5556 - val_recall: 0.6250\n",
      "Epoch 131/300\n",
      "10/10 [==============================] - 0s 7ms/step - loss: 0.4410 - accuracy: 0.7959 - precision: 0.7021 - recall: 0.6735 - val_loss: 0.5201 - val_accuracy: 0.7143 - val_precision: 0.5556 - val_recall: 0.6250\n",
      "Epoch 132/300\n",
      "10/10 [==============================] - 0s 7ms/step - loss: 0.4416 - accuracy: 0.7959 - precision: 0.7065 - recall: 0.6633 - val_loss: 0.5197 - val_accuracy: 0.7143 - val_precision: 0.5556 - val_recall: 0.6250\n",
      "Epoch 133/300\n",
      "10/10 [==============================] - 0s 6ms/step - loss: 0.4404 - accuracy: 0.8095 - precision: 0.7059 - recall: 0.7347 - val_loss: 0.5179 - val_accuracy: 0.7245 - val_precision: 0.5641 - val_recall: 0.6875\n",
      "Epoch 134/300\n",
      "10/10 [==============================] - 0s 8ms/step - loss: 0.4409 - accuracy: 0.8095 - precision: 0.7019 - recall: 0.7449 - val_loss: 0.5188 - val_accuracy: 0.7143 - val_precision: 0.5556 - val_recall: 0.6250\n",
      "Epoch 135/300\n",
      "10/10 [==============================] - 0s 7ms/step - loss: 0.4398 - accuracy: 0.8061 - precision: 0.6990 - recall: 0.7347 - val_loss: 0.5189 - val_accuracy: 0.7143 - val_precision: 0.5556 - val_recall: 0.6250\n",
      "Epoch 136/300\n",
      "10/10 [==============================] - 0s 6ms/step - loss: 0.4395 - accuracy: 0.8061 - precision: 0.7071 - recall: 0.7143 - val_loss: 0.5192 - val_accuracy: 0.7143 - val_precision: 0.5556 - val_recall: 0.6250\n",
      "Epoch 137/300\n",
      "10/10 [==============================] - 0s 7ms/step - loss: 0.4375 - accuracy: 0.8095 - precision: 0.7100 - recall: 0.7245 - val_loss: 0.5182 - val_accuracy: 0.7245 - val_precision: 0.5641 - val_recall: 0.6875\n",
      "Epoch 138/300\n",
      "10/10 [==============================] - 0s 7ms/step - loss: 0.4391 - accuracy: 0.8061 - precision: 0.6990 - recall: 0.7347 - val_loss: 0.5184 - val_accuracy: 0.7245 - val_precision: 0.5641 - val_recall: 0.6875\n",
      "Epoch 139/300\n",
      "10/10 [==============================] - 0s 6ms/step - loss: 0.4379 - accuracy: 0.8061 - precision: 0.7030 - recall: 0.7245 - val_loss: 0.5193 - val_accuracy: 0.7143 - val_precision: 0.5556 - val_recall: 0.6250\n",
      "Epoch 140/300\n"
     ]
    },
    {
     "name": "stdout",
     "output_type": "stream",
     "text": [
      "10/10 [==============================] - 0s 7ms/step - loss: 0.4374 - accuracy: 0.8061 - precision: 0.6990 - recall: 0.7347 - val_loss: 0.5192 - val_accuracy: 0.7245 - val_precision: 0.5676 - val_recall: 0.6562\n",
      "Epoch 141/300\n",
      "10/10 [==============================] - 0s 6ms/step - loss: 0.4373 - accuracy: 0.8095 - precision: 0.7143 - recall: 0.7143 - val_loss: 0.5191 - val_accuracy: 0.7143 - val_precision: 0.5556 - val_recall: 0.6250\n",
      "Epoch 142/300\n",
      "10/10 [==============================] - 0s 6ms/step - loss: 0.4360 - accuracy: 0.8129 - precision: 0.7216 - recall: 0.7143 - val_loss: 0.5191 - val_accuracy: 0.7143 - val_precision: 0.5556 - val_recall: 0.6250\n",
      "Epoch 143/300\n",
      "10/10 [==============================] - 0s 7ms/step - loss: 0.4364 - accuracy: 0.8027 - precision: 0.6961 - recall: 0.7245 - val_loss: 0.5189 - val_accuracy: 0.7143 - val_precision: 0.5556 - val_recall: 0.6250\n",
      "Epoch 144/300\n",
      "10/10 [==============================] - 0s 7ms/step - loss: 0.4357 - accuracy: 0.8027 - precision: 0.6961 - recall: 0.7245 - val_loss: 0.5190 - val_accuracy: 0.7143 - val_precision: 0.5556 - val_recall: 0.6250\n",
      "Epoch 145/300\n",
      "10/10 [==============================] - 0s 7ms/step - loss: 0.4353 - accuracy: 0.8061 - precision: 0.7030 - recall: 0.7245 - val_loss: 0.5190 - val_accuracy: 0.7143 - val_precision: 0.5526 - val_recall: 0.6562\n",
      "Epoch 146/300\n",
      "10/10 [==============================] - 0s 7ms/step - loss: 0.4346 - accuracy: 0.8027 - precision: 0.6961 - recall: 0.7245 - val_loss: 0.5191 - val_accuracy: 0.7245 - val_precision: 0.5676 - val_recall: 0.6562\n",
      "Epoch 147/300\n",
      "10/10 [==============================] - 0s 6ms/step - loss: 0.4346 - accuracy: 0.8061 - precision: 0.7071 - recall: 0.7143 - val_loss: 0.5196 - val_accuracy: 0.7143 - val_precision: 0.5556 - val_recall: 0.6250\n",
      "Epoch 148/300\n",
      "10/10 [==============================] - 0s 7ms/step - loss: 0.4354 - accuracy: 0.7925 - precision: 0.6869 - recall: 0.6939 - val_loss: 0.5187 - val_accuracy: 0.7245 - val_precision: 0.5676 - val_recall: 0.6562\n",
      "Epoch 149/300\n",
      "10/10 [==============================] - 0s 6ms/step - loss: 0.4334 - accuracy: 0.8095 - precision: 0.7019 - recall: 0.7449 - val_loss: 0.5187 - val_accuracy: 0.7245 - val_precision: 0.5676 - val_recall: 0.6562\n",
      "Epoch 150/300\n",
      "10/10 [==============================] - 0s 6ms/step - loss: 0.4329 - accuracy: 0.8061 - precision: 0.6990 - recall: 0.7347 - val_loss: 0.5188 - val_accuracy: 0.7245 - val_precision: 0.5676 - val_recall: 0.6562\n",
      "Epoch 151/300\n",
      "10/10 [==============================] - 0s 7ms/step - loss: 0.4327 - accuracy: 0.8129 - precision: 0.7129 - recall: 0.7347 - val_loss: 0.5186 - val_accuracy: 0.7245 - val_precision: 0.5676 - val_recall: 0.6562\n",
      "Epoch 152/300\n",
      "10/10 [==============================] - 0s 7ms/step - loss: 0.4320 - accuracy: 0.8231 - precision: 0.7300 - recall: 0.7449 - val_loss: 0.5186 - val_accuracy: 0.7245 - val_precision: 0.5676 - val_recall: 0.6562\n",
      "Epoch 153/300\n",
      "10/10 [==============================] - 0s 7ms/step - loss: 0.4318 - accuracy: 0.8197 - precision: 0.7228 - recall: 0.7449 - val_loss: 0.5182 - val_accuracy: 0.7347 - val_precision: 0.5789 - val_recall: 0.6875\n",
      "Epoch 154/300\n",
      "10/10 [==============================] - 0s 6ms/step - loss: 0.4315 - accuracy: 0.8095 - precision: 0.7019 - recall: 0.7449 - val_loss: 0.5186 - val_accuracy: 0.7347 - val_precision: 0.5789 - val_recall: 0.6875\n",
      "Epoch 155/300\n",
      "10/10 [==============================] - 0s 6ms/step - loss: 0.4325 - accuracy: 0.8163 - precision: 0.7245 - recall: 0.7245 - val_loss: 0.5196 - val_accuracy: 0.7245 - val_precision: 0.5676 - val_recall: 0.6562\n",
      "Epoch 156/300\n",
      "10/10 [==============================] - 0s 7ms/step - loss: 0.4304 - accuracy: 0.8129 - precision: 0.7172 - recall: 0.7245 - val_loss: 0.5190 - val_accuracy: 0.7347 - val_precision: 0.5789 - val_recall: 0.6875\n",
      "Epoch 157/300\n",
      "10/10 [==============================] - 0s 7ms/step - loss: 0.4308 - accuracy: 0.8129 - precision: 0.7087 - recall: 0.7449 - val_loss: 0.5190 - val_accuracy: 0.7347 - val_precision: 0.5789 - val_recall: 0.6875\n",
      "Epoch 158/300\n",
      "10/10 [==============================] - 0s 7ms/step - loss: 0.4316 - accuracy: 0.8061 - precision: 0.6916 - recall: 0.7551 - val_loss: 0.5187 - val_accuracy: 0.7347 - val_precision: 0.5750 - val_recall: 0.7188\n",
      "Epoch 159/300\n",
      "10/10 [==============================] - 0s 6ms/step - loss: 0.4306 - accuracy: 0.8027 - precision: 0.6852 - recall: 0.7551 - val_loss: 0.5192 - val_accuracy: 0.7347 - val_precision: 0.5789 - val_recall: 0.6875\n",
      "Epoch 160/300\n",
      "10/10 [==============================] - 0s 6ms/step - loss: 0.4338 - accuracy: 0.8027 - precision: 0.7083 - recall: 0.6939 - val_loss: 0.5205 - val_accuracy: 0.7347 - val_precision: 0.5882 - val_recall: 0.6250\n",
      "Epoch 161/300\n",
      "10/10 [==============================] - 0s 6ms/step - loss: 0.4288 - accuracy: 0.8061 - precision: 0.7158 - recall: 0.6939 - val_loss: 0.5191 - val_accuracy: 0.7347 - val_precision: 0.5789 - val_recall: 0.6875\n",
      "Epoch 162/300\n",
      "10/10 [==============================] - 0s 6ms/step - loss: 0.4285 - accuracy: 0.8095 - precision: 0.7019 - recall: 0.7449 - val_loss: 0.5191 - val_accuracy: 0.7347 - val_precision: 0.5789 - val_recall: 0.6875\n",
      "Epoch 163/300\n",
      "10/10 [==============================] - 0s 6ms/step - loss: 0.4292 - accuracy: 0.8095 - precision: 0.7019 - recall: 0.7449 - val_loss: 0.5189 - val_accuracy: 0.7245 - val_precision: 0.5641 - val_recall: 0.6875\n",
      "Epoch 164/300\n",
      "10/10 [==============================] - 0s 7ms/step - loss: 0.4278 - accuracy: 0.8095 - precision: 0.7019 - recall: 0.7449 - val_loss: 0.5189 - val_accuracy: 0.7347 - val_precision: 0.5789 - val_recall: 0.6875\n",
      "Epoch 165/300\n",
      "10/10 [==============================] - 0s 7ms/step - loss: 0.4277 - accuracy: 0.8129 - precision: 0.7129 - recall: 0.7347 - val_loss: 0.5191 - val_accuracy: 0.7347 - val_precision: 0.5789 - val_recall: 0.6875\n",
      "Epoch 166/300\n",
      "10/10 [==============================] - 0s 8ms/step - loss: 0.4283 - accuracy: 0.8129 - precision: 0.7087 - recall: 0.7449 - val_loss: 0.5182 - val_accuracy: 0.7449 - val_precision: 0.5897 - val_recall: 0.7188\n",
      "Epoch 167/300\n",
      "10/10 [==============================] - 0s 7ms/step - loss: 0.4270 - accuracy: 0.8061 - precision: 0.6952 - recall: 0.7449 - val_loss: 0.5184 - val_accuracy: 0.7347 - val_precision: 0.5789 - val_recall: 0.6875\n",
      "Epoch 168/300\n",
      "10/10 [==============================] - 0s 7ms/step - loss: 0.4265 - accuracy: 0.8061 - precision: 0.6952 - recall: 0.7449 - val_loss: 0.5184 - val_accuracy: 0.7347 - val_precision: 0.5789 - val_recall: 0.6875\n",
      "Epoch 169/300\n",
      "10/10 [==============================] - 0s 7ms/step - loss: 0.4266 - accuracy: 0.8061 - precision: 0.6952 - recall: 0.7449 - val_loss: 0.5182 - val_accuracy: 0.7347 - val_precision: 0.5789 - val_recall: 0.6875\n",
      "Epoch 170/300\n",
      "10/10 [==============================] - 0s 7ms/step - loss: 0.4268 - accuracy: 0.8163 - precision: 0.7200 - recall: 0.7347 - val_loss: 0.5183 - val_accuracy: 0.7449 - val_precision: 0.5946 - val_recall: 0.6875\n",
      "Epoch 171/300\n",
      "10/10 [==============================] - 0s 7ms/step - loss: 0.4263 - accuracy: 0.8231 - precision: 0.7347 - recall: 0.7347 - val_loss: 0.5183 - val_accuracy: 0.7347 - val_precision: 0.5789 - val_recall: 0.6875\n",
      "Epoch 172/300\n",
      "10/10 [==============================] - 0s 6ms/step - loss: 0.4241 - accuracy: 0.8129 - precision: 0.7087 - recall: 0.7449 - val_loss: 0.5184 - val_accuracy: 0.7347 - val_precision: 0.5750 - val_recall: 0.7188\n",
      "Epoch 173/300\n",
      "10/10 [==============================] - 0s 7ms/step - loss: 0.4254 - accuracy: 0.8061 - precision: 0.6916 - recall: 0.7551 - val_loss: 0.5185 - val_accuracy: 0.7449 - val_precision: 0.5897 - val_recall: 0.7188\n",
      "Epoch 174/300\n",
      "10/10 [==============================] - 0s 6ms/step - loss: 0.4249 - accuracy: 0.8095 - precision: 0.7019 - recall: 0.7449 - val_loss: 0.5187 - val_accuracy: 0.7347 - val_precision: 0.5789 - val_recall: 0.6875\n",
      "Epoch 175/300\n",
      "10/10 [==============================] - 0s 6ms/step - loss: 0.4245 - accuracy: 0.8163 - precision: 0.7200 - recall: 0.7347 - val_loss: 0.5192 - val_accuracy: 0.7347 - val_precision: 0.5789 - val_recall: 0.6875\n",
      "Epoch 176/300\n"
     ]
    },
    {
     "name": "stdout",
     "output_type": "stream",
     "text": [
      "10/10 [==============================] - 0s 6ms/step - loss: 0.4241 - accuracy: 0.8197 - precision: 0.7228 - recall: 0.7449 - val_loss: 0.5189 - val_accuracy: 0.7449 - val_precision: 0.5897 - val_recall: 0.7188\n",
      "Epoch 177/300\n",
      "10/10 [==============================] - 0s 6ms/step - loss: 0.4237 - accuracy: 0.8129 - precision: 0.7048 - recall: 0.7551 - val_loss: 0.5191 - val_accuracy: 0.7347 - val_precision: 0.5750 - val_recall: 0.7188\n",
      "Epoch 178/300\n",
      "10/10 [==============================] - 0s 6ms/step - loss: 0.4267 - accuracy: 0.8061 - precision: 0.6752 - recall: 0.8061 - val_loss: 0.5220 - val_accuracy: 0.7245 - val_precision: 0.5556 - val_recall: 0.7812\n",
      "Epoch 179/300\n",
      "10/10 [==============================] - 0s 7ms/step - loss: 0.4270 - accuracy: 0.8095 - precision: 0.6842 - recall: 0.7959 - val_loss: 0.5198 - val_accuracy: 0.7347 - val_precision: 0.5750 - val_recall: 0.7188\n",
      "Epoch 180/300\n",
      "10/10 [==============================] - 0s 6ms/step - loss: 0.4266 - accuracy: 0.8095 - precision: 0.6981 - recall: 0.7551 - val_loss: 0.5201 - val_accuracy: 0.7347 - val_precision: 0.5789 - val_recall: 0.6875\n",
      "Epoch 181/300\n",
      "10/10 [==============================] - 0s 6ms/step - loss: 0.4239 - accuracy: 0.8095 - precision: 0.6981 - recall: 0.7551 - val_loss: 0.5224 - val_accuracy: 0.7347 - val_precision: 0.5682 - val_recall: 0.7812\n",
      "Epoch 182/300\n",
      "10/10 [==============================] - 0s 6ms/step - loss: 0.4275 - accuracy: 0.8129 - precision: 0.6838 - recall: 0.8163 - val_loss: 0.5226 - val_accuracy: 0.7245 - val_precision: 0.5556 - val_recall: 0.7812\n",
      "Epoch 183/300\n",
      "10/10 [==============================] - 0s 7ms/step - loss: 0.4240 - accuracy: 0.8095 - precision: 0.6842 - recall: 0.7959 - val_loss: 0.5205 - val_accuracy: 0.7347 - val_precision: 0.5750 - val_recall: 0.7188\n",
      "Epoch 184/300\n",
      "10/10 [==============================] - 0s 6ms/step - loss: 0.4218 - accuracy: 0.7993 - precision: 0.6893 - recall: 0.7245 - val_loss: 0.5204 - val_accuracy: 0.7449 - val_precision: 0.5946 - val_recall: 0.6875\n",
      "Epoch 185/300\n",
      "10/10 [==============================] - 0s 7ms/step - loss: 0.4235 - accuracy: 0.7993 - precision: 0.7053 - recall: 0.6837 - val_loss: 0.5194 - val_accuracy: 0.7347 - val_precision: 0.5789 - val_recall: 0.6875\n",
      "Epoch 186/300\n",
      "10/10 [==============================] - 0s 6ms/step - loss: 0.4222 - accuracy: 0.8095 - precision: 0.7143 - recall: 0.7143 - val_loss: 0.5186 - val_accuracy: 0.7449 - val_precision: 0.5897 - val_recall: 0.7188\n",
      "Epoch 187/300\n",
      "10/10 [==============================] - 0s 6ms/step - loss: 0.4215 - accuracy: 0.8027 - precision: 0.6961 - recall: 0.7245 - val_loss: 0.5185 - val_accuracy: 0.7449 - val_precision: 0.5897 - val_recall: 0.7188\n",
      "Epoch 188/300\n",
      "10/10 [==============================] - 0s 6ms/step - loss: 0.4204 - accuracy: 0.8095 - precision: 0.7100 - recall: 0.7245 - val_loss: 0.5183 - val_accuracy: 0.7449 - val_precision: 0.5897 - val_recall: 0.7188\n",
      "Epoch 189/300\n",
      "10/10 [==============================] - 0s 6ms/step - loss: 0.4214 - accuracy: 0.8027 - precision: 0.6887 - recall: 0.7449 - val_loss: 0.5185 - val_accuracy: 0.7449 - val_precision: 0.5897 - val_recall: 0.7188\n",
      "Epoch 190/300\n",
      "10/10 [==============================] - 0s 7ms/step - loss: 0.4200 - accuracy: 0.8027 - precision: 0.6961 - recall: 0.7245 - val_loss: 0.5181 - val_accuracy: 0.7347 - val_precision: 0.5789 - val_recall: 0.6875\n",
      "Epoch 191/300\n",
      "10/10 [==============================] - 0s 7ms/step - loss: 0.4200 - accuracy: 0.8129 - precision: 0.7172 - recall: 0.7245 - val_loss: 0.5181 - val_accuracy: 0.7347 - val_precision: 0.5789 - val_recall: 0.6875\n",
      "Epoch 192/300\n",
      "10/10 [==============================] - 0s 7ms/step - loss: 0.4202 - accuracy: 0.8197 - precision: 0.7320 - recall: 0.7245 - val_loss: 0.5180 - val_accuracy: 0.7551 - val_precision: 0.6111 - val_recall: 0.6875\n",
      "Epoch 193/300\n",
      "10/10 [==============================] - 0s 7ms/step - loss: 0.4209 - accuracy: 0.8163 - precision: 0.7292 - recall: 0.7143 - val_loss: 0.5182 - val_accuracy: 0.7551 - val_precision: 0.6111 - val_recall: 0.6875\n",
      "Epoch 194/300\n",
      "10/10 [==============================] - 0s 7ms/step - loss: 0.4198 - accuracy: 0.8095 - precision: 0.7019 - recall: 0.7449 - val_loss: 0.5189 - val_accuracy: 0.7449 - val_precision: 0.5897 - val_recall: 0.7188\n",
      "Epoch 195/300\n",
      "10/10 [==============================] - 0s 7ms/step - loss: 0.4183 - accuracy: 0.8095 - precision: 0.6981 - recall: 0.7551 - val_loss: 0.5187 - val_accuracy: 0.7449 - val_precision: 0.5897 - val_recall: 0.7188\n",
      "Epoch 196/300\n",
      "10/10 [==============================] - 0s 7ms/step - loss: 0.4183 - accuracy: 0.8061 - precision: 0.6990 - recall: 0.7347 - val_loss: 0.5187 - val_accuracy: 0.7449 - val_precision: 0.5897 - val_recall: 0.7188\n",
      "Epoch 197/300\n",
      "10/10 [==============================] - 0s 7ms/step - loss: 0.4181 - accuracy: 0.7993 - precision: 0.6822 - recall: 0.7449 - val_loss: 0.5202 - val_accuracy: 0.7449 - val_precision: 0.5854 - val_recall: 0.7500\n",
      "Epoch 198/300\n",
      "10/10 [==============================] - 0s 6ms/step - loss: 0.4182 - accuracy: 0.8061 - precision: 0.6847 - recall: 0.7755 - val_loss: 0.5188 - val_accuracy: 0.7449 - val_precision: 0.5897 - val_recall: 0.7188\n",
      "Epoch 199/300\n",
      "10/10 [==============================] - 0s 7ms/step - loss: 0.4178 - accuracy: 0.8129 - precision: 0.7129 - recall: 0.7347 - val_loss: 0.5189 - val_accuracy: 0.7449 - val_precision: 0.5946 - val_recall: 0.6875\n",
      "Epoch 200/300\n",
      "10/10 [==============================] - 0s 6ms/step - loss: 0.4192 - accuracy: 0.8163 - precision: 0.7340 - recall: 0.7041 - val_loss: 0.5194 - val_accuracy: 0.7551 - val_precision: 0.6111 - val_recall: 0.6875\n",
      "Epoch 201/300\n",
      "10/10 [==============================] - 0s 7ms/step - loss: 0.4191 - accuracy: 0.8197 - precision: 0.7320 - recall: 0.7245 - val_loss: 0.5189 - val_accuracy: 0.7449 - val_precision: 0.5897 - val_recall: 0.7188\n",
      "Epoch 202/300\n",
      "10/10 [==============================] - 0s 6ms/step - loss: 0.4181 - accuracy: 0.8061 - precision: 0.6881 - recall: 0.7653 - val_loss: 0.5208 - val_accuracy: 0.7245 - val_precision: 0.5581 - val_recall: 0.7500\n",
      "Epoch 203/300\n",
      "10/10 [==============================] - 0s 6ms/step - loss: 0.4171 - accuracy: 0.8163 - precision: 0.6964 - recall: 0.7959 - val_loss: 0.5195 - val_accuracy: 0.7449 - val_precision: 0.5897 - val_recall: 0.7188\n",
      "Epoch 204/300\n",
      "10/10 [==============================] - 0s 7ms/step - loss: 0.4171 - accuracy: 0.8163 - precision: 0.7157 - recall: 0.7449 - val_loss: 0.5199 - val_accuracy: 0.7449 - val_precision: 0.5897 - val_recall: 0.7188\n",
      "Epoch 205/300\n",
      "10/10 [==============================] - 0s 7ms/step - loss: 0.4160 - accuracy: 0.8163 - precision: 0.7157 - recall: 0.7449 - val_loss: 0.5196 - val_accuracy: 0.7449 - val_precision: 0.5897 - val_recall: 0.7188\n",
      "Epoch 206/300\n",
      "10/10 [==============================] - 0s 6ms/step - loss: 0.4172 - accuracy: 0.8197 - precision: 0.7320 - recall: 0.7245 - val_loss: 0.5196 - val_accuracy: 0.7449 - val_precision: 0.5946 - val_recall: 0.6875\n",
      "Epoch 207/300\n",
      "10/10 [==============================] - 0s 6ms/step - loss: 0.4186 - accuracy: 0.8095 - precision: 0.6875 - recall: 0.7857 - val_loss: 0.5209 - val_accuracy: 0.7245 - val_precision: 0.5581 - val_recall: 0.7500\n",
      "Epoch 208/300\n",
      "10/10 [==============================] - 0s 7ms/step - loss: 0.4155 - accuracy: 0.8061 - precision: 0.6916 - recall: 0.7551 - val_loss: 0.5198 - val_accuracy: 0.7449 - val_precision: 0.5897 - val_recall: 0.7188\n",
      "Epoch 209/300\n",
      "10/10 [==============================] - 0s 6ms/step - loss: 0.4156 - accuracy: 0.8197 - precision: 0.7273 - recall: 0.7347 - val_loss: 0.5202 - val_accuracy: 0.7551 - val_precision: 0.6111 - val_recall: 0.6875\n",
      "Epoch 210/300\n",
      "10/10 [==============================] - 0s 6ms/step - loss: 0.4158 - accuracy: 0.8129 - precision: 0.7129 - recall: 0.7347 - val_loss: 0.5195 - val_accuracy: 0.7551 - val_precision: 0.6000 - val_recall: 0.7500\n",
      "Epoch 211/300\n",
      "10/10 [==============================] - 0s 6ms/step - loss: 0.4145 - accuracy: 0.8163 - precision: 0.7200 - recall: 0.7347 - val_loss: 0.5197 - val_accuracy: 0.7551 - val_precision: 0.6053 - val_recall: 0.7188\n",
      "Epoch 212/300\n"
     ]
    },
    {
     "name": "stdout",
     "output_type": "stream",
     "text": [
      "10/10 [==============================] - 0s 6ms/step - loss: 0.4142 - accuracy: 0.8163 - precision: 0.7200 - recall: 0.7347 - val_loss: 0.5200 - val_accuracy: 0.7551 - val_precision: 0.6053 - val_recall: 0.7188\n",
      "Epoch 213/300\n",
      "10/10 [==============================] - 0s 7ms/step - loss: 0.4142 - accuracy: 0.8197 - precision: 0.7273 - recall: 0.7347 - val_loss: 0.5202 - val_accuracy: 0.7551 - val_precision: 0.6053 - val_recall: 0.7188\n",
      "Epoch 214/300\n",
      "10/10 [==============================] - 0s 6ms/step - loss: 0.4138 - accuracy: 0.8231 - precision: 0.7255 - recall: 0.7551 - val_loss: 0.5203 - val_accuracy: 0.7245 - val_precision: 0.5581 - val_recall: 0.7500\n",
      "Epoch 215/300\n",
      "10/10 [==============================] - 0s 6ms/step - loss: 0.4138 - accuracy: 0.8129 - precision: 0.6972 - recall: 0.7755 - val_loss: 0.5202 - val_accuracy: 0.7449 - val_precision: 0.5854 - val_recall: 0.7500\n",
      "Epoch 216/300\n",
      "10/10 [==============================] - 0s 6ms/step - loss: 0.4124 - accuracy: 0.8129 - precision: 0.7087 - recall: 0.7449 - val_loss: 0.5209 - val_accuracy: 0.7551 - val_precision: 0.6053 - val_recall: 0.7188\n",
      "Epoch 217/300\n",
      "10/10 [==============================] - 0s 6ms/step - loss: 0.4125 - accuracy: 0.8163 - precision: 0.7245 - recall: 0.7245 - val_loss: 0.5205 - val_accuracy: 0.7551 - val_precision: 0.6053 - val_recall: 0.7188\n",
      "Epoch 218/300\n",
      "10/10 [==============================] - 0s 6ms/step - loss: 0.4121 - accuracy: 0.8129 - precision: 0.7216 - recall: 0.7143 - val_loss: 0.5204 - val_accuracy: 0.7653 - val_precision: 0.6216 - val_recall: 0.7188\n",
      "Epoch 219/300\n",
      "10/10 [==============================] - 0s 6ms/step - loss: 0.4130 - accuracy: 0.8061 - precision: 0.7030 - recall: 0.7245 - val_loss: 0.5205 - val_accuracy: 0.7347 - val_precision: 0.5714 - val_recall: 0.7500\n",
      "Epoch 220/300\n",
      "10/10 [==============================] - 0s 6ms/step - loss: 0.4121 - accuracy: 0.8095 - precision: 0.6944 - recall: 0.7653 - val_loss: 0.5207 - val_accuracy: 0.7347 - val_precision: 0.5714 - val_recall: 0.7500\n",
      "Epoch 221/300\n",
      "10/10 [==============================] - 0s 6ms/step - loss: 0.4111 - accuracy: 0.8197 - precision: 0.7143 - recall: 0.7653 - val_loss: 0.5206 - val_accuracy: 0.7449 - val_precision: 0.5897 - val_recall: 0.7188\n",
      "Epoch 222/300\n",
      "10/10 [==============================] - 0s 6ms/step - loss: 0.4110 - accuracy: 0.8197 - precision: 0.7273 - recall: 0.7347 - val_loss: 0.5214 - val_accuracy: 0.7551 - val_precision: 0.6000 - val_recall: 0.7500\n",
      "Epoch 223/300\n",
      "10/10 [==============================] - 0s 6ms/step - loss: 0.4107 - accuracy: 0.8197 - precision: 0.7184 - recall: 0.7551 - val_loss: 0.5214 - val_accuracy: 0.7449 - val_precision: 0.5854 - val_recall: 0.7500\n",
      "Epoch 224/300\n",
      "10/10 [==============================] - 0s 7ms/step - loss: 0.4103 - accuracy: 0.8129 - precision: 0.7129 - recall: 0.7347 - val_loss: 0.5220 - val_accuracy: 0.7347 - val_precision: 0.5789 - val_recall: 0.6875\n",
      "Epoch 225/300\n",
      "10/10 [==============================] - 0s 7ms/step - loss: 0.4097 - accuracy: 0.8197 - precision: 0.7143 - recall: 0.7653 - val_loss: 0.5221 - val_accuracy: 0.7449 - val_precision: 0.5814 - val_recall: 0.7812\n",
      "Epoch 226/300\n",
      "10/10 [==============================] - 0s 6ms/step - loss: 0.4113 - accuracy: 0.8095 - precision: 0.6875 - recall: 0.7857 - val_loss: 0.5232 - val_accuracy: 0.7347 - val_precision: 0.5682 - val_recall: 0.7812\n",
      "Epoch 227/300\n",
      "10/10 [==============================] - 0s 7ms/step - loss: 0.4111 - accuracy: 0.8129 - precision: 0.7087 - recall: 0.7449 - val_loss: 0.5222 - val_accuracy: 0.7551 - val_precision: 0.6111 - val_recall: 0.6875\n",
      "Epoch 228/300\n",
      "10/10 [==============================] - 0s 7ms/step - loss: 0.4099 - accuracy: 0.8095 - precision: 0.7188 - recall: 0.7041 - val_loss: 0.5220 - val_accuracy: 0.7347 - val_precision: 0.5789 - val_recall: 0.6875\n",
      "Epoch 229/300\n",
      "10/10 [==============================] - 0s 7ms/step - loss: 0.4089 - accuracy: 0.8197 - precision: 0.7273 - recall: 0.7347 - val_loss: 0.5219 - val_accuracy: 0.7449 - val_precision: 0.5897 - val_recall: 0.7188\n",
      "Epoch 230/300\n",
      "10/10 [==============================] - 0s 6ms/step - loss: 0.4086 - accuracy: 0.8163 - precision: 0.7075 - recall: 0.7653 - val_loss: 0.5226 - val_accuracy: 0.7347 - val_precision: 0.5714 - val_recall: 0.7500\n",
      "Epoch 231/300\n",
      "10/10 [==============================] - 0s 6ms/step - loss: 0.4086 - accuracy: 0.8129 - precision: 0.7009 - recall: 0.7653 - val_loss: 0.5226 - val_accuracy: 0.7347 - val_precision: 0.5750 - val_recall: 0.7188\n",
      "Epoch 232/300\n",
      "10/10 [==============================] - 0s 7ms/step - loss: 0.4096 - accuracy: 0.8061 - precision: 0.7113 - recall: 0.7041 - val_loss: 0.5227 - val_accuracy: 0.7347 - val_precision: 0.5789 - val_recall: 0.6875\n",
      "Epoch 233/300\n",
      "10/10 [==============================] - 0s 6ms/step - loss: 0.4079 - accuracy: 0.8231 - precision: 0.7300 - recall: 0.7449 - val_loss: 0.5230 - val_accuracy: 0.7449 - val_precision: 0.5854 - val_recall: 0.7500\n",
      "Epoch 234/300\n",
      "10/10 [==============================] - 0s 6ms/step - loss: 0.4078 - accuracy: 0.8163 - precision: 0.7075 - recall: 0.7653 - val_loss: 0.5232 - val_accuracy: 0.7449 - val_precision: 0.5854 - val_recall: 0.7500\n",
      "Epoch 235/300\n",
      "10/10 [==============================] - 0s 6ms/step - loss: 0.4075 - accuracy: 0.8231 - precision: 0.7212 - recall: 0.7653 - val_loss: 0.5223 - val_accuracy: 0.7449 - val_precision: 0.5946 - val_recall: 0.6875\n",
      "Epoch 236/300\n",
      "10/10 [==============================] - 0s 6ms/step - loss: 0.4081 - accuracy: 0.8231 - precision: 0.7347 - recall: 0.7347 - val_loss: 0.5224 - val_accuracy: 0.7449 - val_precision: 0.5946 - val_recall: 0.6875\n",
      "Epoch 237/300\n",
      "10/10 [==============================] - 0s 6ms/step - loss: 0.4067 - accuracy: 0.8197 - precision: 0.7228 - recall: 0.7449 - val_loss: 0.5236 - val_accuracy: 0.7347 - val_precision: 0.5750 - val_recall: 0.7188\n",
      "Epoch 238/300\n",
      "10/10 [==============================] - 0s 7ms/step - loss: 0.4081 - accuracy: 0.8061 - precision: 0.6814 - recall: 0.7857 - val_loss: 0.5261 - val_accuracy: 0.7347 - val_precision: 0.5682 - val_recall: 0.7812\n",
      "Epoch 239/300\n",
      "10/10 [==============================] - 0s 7ms/step - loss: 0.4105 - accuracy: 0.8095 - precision: 0.6810 - recall: 0.8061 - val_loss: 0.5241 - val_accuracy: 0.7245 - val_precision: 0.5581 - val_recall: 0.7500\n",
      "Epoch 240/300\n",
      "10/10 [==============================] - 0s 7ms/step - loss: 0.4076 - accuracy: 0.8095 - precision: 0.7059 - recall: 0.7347 - val_loss: 0.5236 - val_accuracy: 0.7347 - val_precision: 0.5750 - val_recall: 0.7188\n",
      "Epoch 241/300\n",
      "10/10 [==============================] - 0s 6ms/step - loss: 0.4082 - accuracy: 0.8095 - precision: 0.6909 - recall: 0.7755 - val_loss: 0.5247 - val_accuracy: 0.7245 - val_precision: 0.5581 - val_recall: 0.7500\n",
      "Epoch 242/300\n",
      "10/10 [==============================] - 0s 6ms/step - loss: 0.4068 - accuracy: 0.8061 - precision: 0.6881 - recall: 0.7653 - val_loss: 0.5231 - val_accuracy: 0.7347 - val_precision: 0.5750 - val_recall: 0.7188\n",
      "Epoch 243/300\n",
      "10/10 [==============================] - 0s 6ms/step - loss: 0.4066 - accuracy: 0.8163 - precision: 0.7200 - recall: 0.7347 - val_loss: 0.5235 - val_accuracy: 0.7551 - val_precision: 0.6053 - val_recall: 0.7188\n",
      "Epoch 244/300\n",
      "10/10 [==============================] - 0s 7ms/step - loss: 0.4063 - accuracy: 0.8163 - precision: 0.7200 - recall: 0.7347 - val_loss: 0.5247 - val_accuracy: 0.7449 - val_precision: 0.5854 - val_recall: 0.7500\n",
      "Epoch 245/300\n",
      "10/10 [==============================] - 0s 7ms/step - loss: 0.4055 - accuracy: 0.8129 - precision: 0.7009 - recall: 0.7653 - val_loss: 0.5245 - val_accuracy: 0.7449 - val_precision: 0.5854 - val_recall: 0.7500\n",
      "Epoch 246/300\n",
      "10/10 [==============================] - 0s 6ms/step - loss: 0.4055 - accuracy: 0.8129 - precision: 0.7009 - recall: 0.7653 - val_loss: 0.5236 - val_accuracy: 0.7449 - val_precision: 0.5897 - val_recall: 0.7188\n",
      "Epoch 247/300\n",
      "10/10 [==============================] - 0s 7ms/step - loss: 0.4052 - accuracy: 0.8231 - precision: 0.7212 - recall: 0.7653 - val_loss: 0.5234 - val_accuracy: 0.7449 - val_precision: 0.5897 - val_recall: 0.7188\n",
      "Epoch 248/300\n"
     ]
    },
    {
     "name": "stdout",
     "output_type": "stream",
     "text": [
      "10/10 [==============================] - 0s 7ms/step - loss: 0.4053 - accuracy: 0.8265 - precision: 0.7327 - recall: 0.7551 - val_loss: 0.5237 - val_accuracy: 0.7449 - val_precision: 0.5897 - val_recall: 0.7188\n",
      "Epoch 249/300\n",
      "10/10 [==============================] - 0s 6ms/step - loss: 0.4048 - accuracy: 0.8265 - precision: 0.7327 - recall: 0.7551 - val_loss: 0.5236 - val_accuracy: 0.7449 - val_precision: 0.5897 - val_recall: 0.7188\n",
      "Epoch 250/300\n",
      "10/10 [==============================] - 0s 6ms/step - loss: 0.4047 - accuracy: 0.8231 - precision: 0.7212 - recall: 0.7653 - val_loss: 0.5253 - val_accuracy: 0.7347 - val_precision: 0.5714 - val_recall: 0.7500\n",
      "Epoch 251/300\n",
      "10/10 [==============================] - 0s 6ms/step - loss: 0.4047 - accuracy: 0.8129 - precision: 0.6972 - recall: 0.7755 - val_loss: 0.5255 - val_accuracy: 0.7449 - val_precision: 0.5854 - val_recall: 0.7500\n",
      "Epoch 252/300\n",
      "10/10 [==============================] - 0s 6ms/step - loss: 0.4041 - accuracy: 0.8231 - precision: 0.7212 - recall: 0.7653 - val_loss: 0.5250 - val_accuracy: 0.7551 - val_precision: 0.6053 - val_recall: 0.7188\n",
      "Epoch 253/300\n",
      "10/10 [==============================] - 0s 7ms/step - loss: 0.4059 - accuracy: 0.8163 - precision: 0.7245 - recall: 0.7245 - val_loss: 0.5257 - val_accuracy: 0.7347 - val_precision: 0.5750 - val_recall: 0.7188\n",
      "Epoch 254/300\n",
      "10/10 [==============================] - 0s 6ms/step - loss: 0.4048 - accuracy: 0.8061 - precision: 0.6881 - recall: 0.7653 - val_loss: 0.5280 - val_accuracy: 0.7245 - val_precision: 0.5581 - val_recall: 0.7500\n",
      "Epoch 255/300\n",
      "10/10 [==============================] - 0s 6ms/step - loss: 0.4082 - accuracy: 0.8095 - precision: 0.6810 - recall: 0.8061 - val_loss: 0.5269 - val_accuracy: 0.7347 - val_precision: 0.5714 - val_recall: 0.7500\n",
      "Epoch 256/300\n",
      "10/10 [==============================] - 0s 7ms/step - loss: 0.4027 - accuracy: 0.8129 - precision: 0.7129 - recall: 0.7347 - val_loss: 0.5248 - val_accuracy: 0.7653 - val_precision: 0.6216 - val_recall: 0.7188\n",
      "Epoch 257/300\n",
      "10/10 [==============================] - 0s 7ms/step - loss: 0.4039 - accuracy: 0.8197 - precision: 0.7273 - recall: 0.7347 - val_loss: 0.5261 - val_accuracy: 0.7449 - val_precision: 0.5897 - val_recall: 0.7188\n",
      "Epoch 258/300\n",
      "10/10 [==============================] - 0s 8ms/step - loss: 0.4037 - accuracy: 0.8095 - precision: 0.6981 - recall: 0.7551 - val_loss: 0.5269 - val_accuracy: 0.7449 - val_precision: 0.5854 - val_recall: 0.7500\n",
      "Epoch 259/300\n",
      "10/10 [==============================] - 0s 6ms/step - loss: 0.4029 - accuracy: 0.8129 - precision: 0.7048 - recall: 0.7551 - val_loss: 0.5263 - val_accuracy: 0.7551 - val_precision: 0.6053 - val_recall: 0.7188\n",
      "Epoch 260/300\n",
      "10/10 [==============================] - 0s 6ms/step - loss: 0.4034 - accuracy: 0.8129 - precision: 0.7172 - recall: 0.7245 - val_loss: 0.5263 - val_accuracy: 0.7551 - val_precision: 0.6053 - val_recall: 0.7188\n",
      "Epoch 261/300\n",
      "10/10 [==============================] - 0s 6ms/step - loss: 0.4048 - accuracy: 0.8163 - precision: 0.7075 - recall: 0.7653 - val_loss: 0.5281 - val_accuracy: 0.7449 - val_precision: 0.5854 - val_recall: 0.7500\n",
      "Epoch 262/300\n",
      "10/10 [==============================] - 0s 7ms/step - loss: 0.4049 - accuracy: 0.8163 - precision: 0.6930 - recall: 0.8061 - val_loss: 0.5293 - val_accuracy: 0.7245 - val_precision: 0.5581 - val_recall: 0.7500\n",
      "Epoch 263/300\n",
      "10/10 [==============================] - 0s 7ms/step - loss: 0.4043 - accuracy: 0.8095 - precision: 0.6842 - recall: 0.7959 - val_loss: 0.5284 - val_accuracy: 0.7245 - val_precision: 0.5581 - val_recall: 0.7500\n",
      "Epoch 264/300\n",
      "10/10 [==============================] - 0s 6ms/step - loss: 0.4032 - accuracy: 0.8129 - precision: 0.6972 - recall: 0.7755 - val_loss: 0.5282 - val_accuracy: 0.7449 - val_precision: 0.5854 - val_recall: 0.7500\n",
      "Epoch 265/300\n",
      "10/10 [==============================] - 0s 7ms/step - loss: 0.4023 - accuracy: 0.8095 - precision: 0.6875 - recall: 0.7857 - val_loss: 0.5288 - val_accuracy: 0.7347 - val_precision: 0.5714 - val_recall: 0.7500\n",
      "Epoch 266/300\n",
      "10/10 [==============================] - 0s 6ms/step - loss: 0.4010 - accuracy: 0.8163 - precision: 0.7075 - recall: 0.7653 - val_loss: 0.5270 - val_accuracy: 0.7449 - val_precision: 0.5897 - val_recall: 0.7188\n",
      "Epoch 267/300\n",
      "10/10 [==============================] - 0s 6ms/step - loss: 0.4033 - accuracy: 0.8129 - precision: 0.7216 - recall: 0.7143 - val_loss: 0.5264 - val_accuracy: 0.7551 - val_precision: 0.6053 - val_recall: 0.7188\n",
      "Epoch 268/300\n",
      "10/10 [==============================] - 0s 7ms/step - loss: 0.4035 - accuracy: 0.8197 - precision: 0.7368 - recall: 0.7143 - val_loss: 0.5266 - val_accuracy: 0.7551 - val_precision: 0.6053 - val_recall: 0.7188\n",
      "Epoch 269/300\n",
      "10/10 [==============================] - 0s 6ms/step - loss: 0.4023 - accuracy: 0.8095 - precision: 0.6981 - recall: 0.7551 - val_loss: 0.5293 - val_accuracy: 0.7347 - val_precision: 0.5714 - val_recall: 0.7500\n",
      "Epoch 270/300\n",
      "10/10 [==============================] - 0s 6ms/step - loss: 0.4018 - accuracy: 0.8299 - precision: 0.7308 - recall: 0.7755 - val_loss: 0.5277 - val_accuracy: 0.7449 - val_precision: 0.5897 - val_recall: 0.7188\n",
      "Epoch 271/300\n",
      "10/10 [==============================] - 0s 7ms/step - loss: 0.4011 - accuracy: 0.8231 - precision: 0.7255 - recall: 0.7551 - val_loss: 0.5286 - val_accuracy: 0.7449 - val_precision: 0.5897 - val_recall: 0.7188\n",
      "Epoch 272/300\n",
      "10/10 [==============================] - 0s 6ms/step - loss: 0.4019 - accuracy: 0.8231 - precision: 0.7170 - recall: 0.7755 - val_loss: 0.5296 - val_accuracy: 0.7449 - val_precision: 0.5854 - val_recall: 0.7500\n",
      "Epoch 273/300\n",
      "10/10 [==============================] - 0s 7ms/step - loss: 0.4042 - accuracy: 0.8129 - precision: 0.6903 - recall: 0.7959 - val_loss: 0.5314 - val_accuracy: 0.7347 - val_precision: 0.5714 - val_recall: 0.7500\n",
      "Epoch 274/300\n",
      "10/10 [==============================] - 0s 6ms/step - loss: 0.4021 - accuracy: 0.8129 - precision: 0.6903 - recall: 0.7959 - val_loss: 0.5297 - val_accuracy: 0.7347 - val_precision: 0.5714 - val_recall: 0.7500\n",
      "Epoch 275/300\n",
      "10/10 [==============================] - 0s 6ms/step - loss: 0.4025 - accuracy: 0.8163 - precision: 0.7200 - recall: 0.7347 - val_loss: 0.5262 - val_accuracy: 0.7653 - val_precision: 0.6216 - val_recall: 0.7188\n",
      "Epoch 276/300\n",
      "10/10 [==============================] - 0s 7ms/step - loss: 0.3996 - accuracy: 0.8163 - precision: 0.7115 - recall: 0.7551 - val_loss: 0.5302 - val_accuracy: 0.7347 - val_precision: 0.5714 - val_recall: 0.7500\n",
      "Epoch 277/300\n",
      "10/10 [==============================] - 0s 7ms/step - loss: 0.4005 - accuracy: 0.8129 - precision: 0.6937 - recall: 0.7857 - val_loss: 0.5299 - val_accuracy: 0.7449 - val_precision: 0.5854 - val_recall: 0.7500\n",
      "Epoch 278/300\n",
      "10/10 [==============================] - 0s 6ms/step - loss: 0.4002 - accuracy: 0.8197 - precision: 0.7184 - recall: 0.7551 - val_loss: 0.5272 - val_accuracy: 0.7551 - val_precision: 0.6053 - val_recall: 0.7188\n",
      "Epoch 279/300\n",
      "10/10 [==============================] - 0s 6ms/step - loss: 0.4014 - accuracy: 0.8265 - precision: 0.7374 - recall: 0.7449 - val_loss: 0.5268 - val_accuracy: 0.7551 - val_precision: 0.6053 - val_recall: 0.7188\n",
      "Epoch 280/300\n",
      "10/10 [==============================] - 0s 7ms/step - loss: 0.4000 - accuracy: 0.8265 - precision: 0.7327 - recall: 0.7551 - val_loss: 0.5291 - val_accuracy: 0.7449 - val_precision: 0.5897 - val_recall: 0.7188\n",
      "Epoch 281/300\n",
      "10/10 [==============================] - 0s 7ms/step - loss: 0.3998 - accuracy: 0.8163 - precision: 0.7115 - recall: 0.7551 - val_loss: 0.5298 - val_accuracy: 0.7449 - val_precision: 0.5897 - val_recall: 0.7188\n",
      "Epoch 282/300\n",
      "10/10 [==============================] - 0s 6ms/step - loss: 0.4029 - accuracy: 0.8129 - precision: 0.6937 - recall: 0.7857 - val_loss: 0.5324 - val_accuracy: 0.7245 - val_precision: 0.5581 - val_recall: 0.7500\n",
      "Epoch 283/300\n",
      "10/10 [==============================] - 0s 6ms/step - loss: 0.4007 - accuracy: 0.8095 - precision: 0.6944 - recall: 0.7653 - val_loss: 0.5281 - val_accuracy: 0.7551 - val_precision: 0.6053 - val_recall: 0.7188\n",
      "Epoch 284/300\n"
     ]
    },
    {
     "name": "stdout",
     "output_type": "stream",
     "text": [
      "10/10 [==============================] - 0s 7ms/step - loss: 0.3997 - accuracy: 0.8299 - precision: 0.7400 - recall: 0.7551 - val_loss: 0.5273 - val_accuracy: 0.7653 - val_precision: 0.6216 - val_recall: 0.7188\n",
      "Epoch 285/300\n",
      "10/10 [==============================] - 0s 7ms/step - loss: 0.4005 - accuracy: 0.8231 - precision: 0.7347 - recall: 0.7347 - val_loss: 0.5283 - val_accuracy: 0.7551 - val_precision: 0.6053 - val_recall: 0.7188\n",
      "Epoch 286/300\n",
      "10/10 [==============================] - 0s 6ms/step - loss: 0.4005 - accuracy: 0.8095 - precision: 0.6981 - recall: 0.7551 - val_loss: 0.5308 - val_accuracy: 0.7449 - val_precision: 0.5897 - val_recall: 0.7188\n",
      "Epoch 287/300\n",
      "10/10 [==============================] - 0s 7ms/step - loss: 0.3991 - accuracy: 0.8129 - precision: 0.7009 - recall: 0.7653 - val_loss: 0.5312 - val_accuracy: 0.7449 - val_precision: 0.5897 - val_recall: 0.7188\n",
      "Epoch 288/300\n",
      "10/10 [==============================] - 0s 7ms/step - loss: 0.3990 - accuracy: 0.8095 - precision: 0.6944 - recall: 0.7653 - val_loss: 0.5315 - val_accuracy: 0.7449 - val_precision: 0.5854 - val_recall: 0.7500\n",
      "Epoch 289/300\n",
      "10/10 [==============================] - 0s 6ms/step - loss: 0.3999 - accuracy: 0.8129 - precision: 0.7048 - recall: 0.7551 - val_loss: 0.5311 - val_accuracy: 0.7551 - val_precision: 0.6053 - val_recall: 0.7188\n",
      "Epoch 290/300\n",
      "10/10 [==============================] - 0s 6ms/step - loss: 0.4006 - accuracy: 0.8129 - precision: 0.6937 - recall: 0.7857 - val_loss: 0.5336 - val_accuracy: 0.7143 - val_precision: 0.5455 - val_recall: 0.7500\n",
      "Epoch 291/300\n",
      "10/10 [==============================] - 0s 6ms/step - loss: 0.4009 - accuracy: 0.8061 - precision: 0.6847 - recall: 0.7755 - val_loss: 0.5319 - val_accuracy: 0.7551 - val_precision: 0.6000 - val_recall: 0.7500\n",
      "Epoch 292/300\n",
      "10/10 [==============================] - 0s 6ms/step - loss: 0.3993 - accuracy: 0.8129 - precision: 0.7009 - recall: 0.7653 - val_loss: 0.5316 - val_accuracy: 0.7551 - val_precision: 0.6000 - val_recall: 0.7500\n",
      "Epoch 293/300\n",
      "10/10 [==============================] - 0s 7ms/step - loss: 0.3981 - accuracy: 0.8163 - precision: 0.7157 - recall: 0.7449 - val_loss: 0.5284 - val_accuracy: 0.7653 - val_precision: 0.6216 - val_recall: 0.7188\n",
      "Epoch 294/300\n",
      "10/10 [==============================] - 0s 7ms/step - loss: 0.3983 - accuracy: 0.8197 - precision: 0.7228 - recall: 0.7449 - val_loss: 0.5314 - val_accuracy: 0.7449 - val_precision: 0.5897 - val_recall: 0.7188\n",
      "Epoch 295/300\n",
      "10/10 [==============================] - 0s 6ms/step - loss: 0.3986 - accuracy: 0.8197 - precision: 0.7184 - recall: 0.7551 - val_loss: 0.5304 - val_accuracy: 0.7551 - val_precision: 0.6053 - val_recall: 0.7188\n",
      "Epoch 296/300\n",
      "10/10 [==============================] - 0s 7ms/step - loss: 0.3985 - accuracy: 0.8163 - precision: 0.7075 - recall: 0.7653 - val_loss: 0.5317 - val_accuracy: 0.7449 - val_precision: 0.5897 - val_recall: 0.7188\n",
      "Epoch 297/300\n",
      "10/10 [==============================] - 0s 6ms/step - loss: 0.3986 - accuracy: 0.8163 - precision: 0.7157 - recall: 0.7449 - val_loss: 0.5284 - val_accuracy: 0.7653 - val_precision: 0.6216 - val_recall: 0.7188\n",
      "Epoch 298/300\n",
      "10/10 [==============================] - 0s 7ms/step - loss: 0.3982 - accuracy: 0.8265 - precision: 0.7374 - recall: 0.7449 - val_loss: 0.5308 - val_accuracy: 0.7551 - val_precision: 0.6053 - val_recall: 0.7188\n",
      "Epoch 299/300\n",
      "10/10 [==============================] - 0s 7ms/step - loss: 0.3977 - accuracy: 0.8197 - precision: 0.7184 - recall: 0.7551 - val_loss: 0.5321 - val_accuracy: 0.7449 - val_precision: 0.5897 - val_recall: 0.7188\n",
      "Epoch 300/300\n",
      "10/10 [==============================] - 0s 6ms/step - loss: 0.3975 - accuracy: 0.8197 - precision: 0.7184 - recall: 0.7551 - val_loss: 0.5302 - val_accuracy: 0.7551 - val_precision: 0.6053 - val_recall: 0.7188\n"
     ]
    }
   ],
   "source": [
    "# fit your model\n",
    "history = class_model.fit(X_train, y_train,\n",
    "                        validation_data = (X_test, y_test),\n",
    "                        epochs = 300, verbose =1)"
   ]
  },
  {
   "cell_type": "code",
   "execution_count": 27,
   "metadata": {
    "ExecuteTime": {
     "end_time": "2023-02-07T23:08:07.682833Z",
     "start_time": "2023-02-07T23:08:07.668853Z"
    },
    "colab": {
     "base_uri": "https://localhost:8080/"
    },
    "executionInfo": {
     "elapsed": 11,
     "status": "ok",
     "timestamp": 1668628751238,
     "user": {
      "displayName": "Josh Johnson",
      "userId": "08606005069848925988"
     },
     "user_tz": 480
    },
    "id": "Yoe9aRvlJY5R",
    "outputId": "c871ab6e-fb97-4eaa-f608-dcc1c2de270b"
   },
   "outputs": [
    {
     "data": {
      "text/plain": [
       "dict_keys(['loss', 'accuracy', 'precision', 'recall', 'val_loss', 'val_accuracy', 'val_precision', 'val_recall'])"
      ]
     },
     "execution_count": 27,
     "metadata": {},
     "output_type": "execute_result"
    }
   ],
   "source": [
    "history.history.keys()"
   ]
  },
  {
   "cell_type": "code",
   "execution_count": 28,
   "metadata": {
    "ExecuteTime": {
     "end_time": "2023-02-07T23:08:08.184012Z",
     "start_time": "2023-02-07T23:08:07.683841Z"
    },
    "colab": {
     "base_uri": "https://localhost:8080/",
     "height": 1000
    },
    "executionInfo": {
     "elapsed": 1094,
     "status": "ok",
     "timestamp": 1668628752322,
     "user": {
      "displayName": "Josh Johnson",
      "userId": "08606005069848925988"
     },
     "user_tz": 480
    },
    "id": "qKLxgYDcP0_H",
    "outputId": "ef503177-c613-4430-dd10-6f183a82416d"
   },
   "outputs": [
    {
     "data": {
      "image/png": "[encoded data removed]",
      "text/plain": [
       "<Figure size 432x288 with 1 Axes>"
      ]
     },
     "metadata": {
      "needs_background": "light"
     },
     "output_type": "display_data"
    },
    {
     "data": {
      "image/png": "[encoded data removed]",
      "text/plain": [
       "<Figure size 432x288 with 1 Axes>"
      ]
     },
     "metadata": {
      "needs_background": "light"
     },
     "output_type": "display_data"
    },
    {
     "data": {
      "image/png": "[encoded data removed]",
      "text/plain": [
       "<Figure size 432x288 with 1 Axes>"
      ]
     },
     "metadata": {
      "needs_background": "light"
     },
     "output_type": "display_data"
    },
    {
     "data": {
      "image/png": "[encoded data removed]",
      "text/plain": [
       "<Figure size 432x288 with 1 Axes>"
      ]
     },
     "metadata": {
      "needs_background": "light"
     },
     "output_type": "display_data"
    }
   ],
   "source": [
    "# See how your model is doing\n",
    "plot_history(history)"
   ]
  },
  {
   "cell_type": "markdown",
   "metadata": {
    "id": "CNM-itgKADFn"
   },
   "source": []
  },
  {
   "cell_type": "markdown",
   "metadata": {
    "id": "LD18RKjYTFXP"
   },
   "source": [
    "## Evaluation\n",
    "\n",
    "Keras models always output floats, not integers.  In this case the final sigmoid activation function will return a number between 0 and 1.  If the number is closer to 1, the model predicts the sample is more likely to be class 1.  If it is closer to 2, the sample is predicted to be more likely to be class 0.  \n",
    "\n",
    "This is similar to the output of .predict_proba() with Scikit-Learn models.\n",
    "\n",
    "### Converting Floats to Ints\n",
    "\n",
    "In order to use Scikit-Learn metrics functions, the float outputs of the model need to be converted to ints.  We don't want to just use `int(pred)` or `pred.astype(int)` because that will just drop the decimal and all our predictions would be 0s.  \n",
    "\n",
    "Instead we want to **round** the predictions to the nearest integer. To round all of the numbers in an array we can use the NumPy function, `np.rint()` which is short for 'round to integer'.  "
   ]
  },
  {
   "cell_type": "code",
   "execution_count": 29,
   "metadata": {
    "ExecuteTime": {
     "end_time": "2023-02-07T23:08:08.263573Z",
     "start_time": "2023-02-07T23:08:08.185009Z"
    }
   },
   "outputs": [
    {
     "data": {
      "text/plain": [
       "array([[0.01751196],\n",
       "       [0.6781917 ],\n",
       "       [0.6781917 ],\n",
       "       [0.6781917 ],\n",
       "       [0.02358648],\n",
       "       [0.48627853],\n",
       "       [0.05750111],\n",
       "       [0.28984734],\n",
       "       [0.6781917 ],\n",
       "       [0.6781917 ]], dtype=float32)"
      ]
     },
     "execution_count": 29,
     "metadata": {},
     "output_type": "execute_result"
    }
   ],
   "source": [
    "class_model.predict(X_train)[:10]"
   ]
  },
  {
   "cell_type": "code",
   "execution_count": 30,
   "metadata": {
    "ExecuteTime": {
     "end_time": "2023-02-07T23:08:08.359134Z",
     "start_time": "2023-02-07T23:08:08.264572Z"
    },
    "id": "kUwM2cfJCDKx"
   },
   "outputs": [
    {
     "name": "stdout",
     "output_type": "stream",
     "text": [
      "[[0.]\n",
      " [1.]\n",
      " [1.]\n",
      " [1.]\n",
      " [0.]]\n",
      "[[0.]\n",
      " [1.]\n",
      " [1.]\n",
      " [1.]\n",
      " [0.]]\n"
     ]
    }
   ],
   "source": [
    "# Get predictions\n",
    "train_pred_proba = class_model.predict(X_train)\n",
    "test_pred_proba = class_model.predict(X_test)\n",
    "\n",
    "# round predictions to integers instead of floats\n",
    "train_preds = np.rint(train_pred_proba)\n",
    "test_preds = np.rint(test_pred_proba)\n",
    "\n",
    "# the following code should show whole number predictions, 1.0 or 0.0\n",
    "print(test_preds[:5])\n",
    "print(train_preds[:5])"
   ]
  },
  {
   "cell_type": "code",
   "execution_count": 31,
   "metadata": {
    "ExecuteTime": {
     "end_time": "2023-02-07T23:08:08.699495Z",
     "start_time": "2023-02-07T23:08:08.359906Z"
    },
    "colab": {
     "base_uri": "https://localhost:8080/",
     "height": 979
    },
    "executionInfo": {
     "elapsed": 916,
     "status": "ok",
     "timestamp": 1668628753236,
     "user": {
      "displayName": "Josh Johnson",
      "userId": "08606005069848925988"
     },
     "user_tz": 480
    },
    "id": "sov8ZJUHP-Bf",
    "outputId": "088297ca-06c0-4a37-a5b0-b3048bf4b695"
   },
   "outputs": [
    {
     "name": "stdout",
     "output_type": "stream",
     "text": [
      "base_class_model_train \n",
      "\n",
      "              precision    recall  f1-score   support\n",
      "\n",
      " No Diabetes       0.88      0.86      0.87       196\n",
      "    Diabetes       0.73      0.76      0.74        98\n",
      "\n",
      "    accuracy                           0.82       294\n",
      "   macro avg       0.80      0.81      0.80       294\n",
      "weighted avg       0.83      0.82      0.82       294\n",
      "\n"
     ]
    },
    {
     "data": {
      "image/png": "[encoded data removed]",
      "text/plain": [
       "<Figure size 432x288 with 2 Axes>"
      ]
     },
     "metadata": {
      "needs_background": "light"
     },
     "output_type": "display_data"
    },
    {
     "name": "stdout",
     "output_type": "stream",
     "text": [
      "base_class_model_test \n",
      "\n",
      "              precision    recall  f1-score   support\n",
      "\n",
      " No Diabetes       0.85      0.77      0.81        66\n",
      "    Diabetes       0.61      0.72      0.66        32\n",
      "\n",
      "    accuracy                           0.76        98\n",
      "   macro avg       0.73      0.75      0.73        98\n",
      "weighted avg       0.77      0.76      0.76        98\n",
      "\n"
     ]
    },
    {
     "data": {
      "image/png": "[encoded data removed]",
      "text/plain": [
       "<Figure size 432x288 with 2 Axes>"
      ]
     },
     "metadata": {
      "needs_background": "light"
     },
     "output_type": "display_data"
    },
    {
     "data": {
      "text/html": [
       "<div>\n",
       "<style scoped>\n",
       "    .dataframe tbody tr th:only-of-type {\n",
       "        vertical-align: middle;\n",
       "    }\n",
       "\n",
       "    .dataframe tbody tr th {\n",
       "        vertical-align: top;\n",
       "    }\n",
       "\n",
       "    .dataframe thead th {\n",
       "        text-align: right;\n",
       "    }\n",
       "</style>\n",
       "<table border=\"1\" class=\"dataframe\">\n",
       "  <thead>\n",
       "    <tr style=\"text-align: right;\">\n",
       "      <th></th>\n",
       "      <th>Precision</th>\n",
       "      <th>Recall</th>\n",
       "      <th>F1 Score</th>\n",
       "      <th>Accuracy</th>\n",
       "    </tr>\n",
       "    <tr>\n",
       "      <th>Model Name</th>\n",
       "      <th></th>\n",
       "      <th></th>\n",
       "      <th></th>\n",
       "      <th></th>\n",
       "    </tr>\n",
       "  </thead>\n",
       "  <tbody>\n",
       "    <tr>\n",
       "      <th>base_class_model_train</th>\n",
       "      <td>0.725490</td>\n",
       "      <td>0.755102</td>\n",
       "      <td>0.740000</td>\n",
       "      <td>0.823129</td>\n",
       "    </tr>\n",
       "    <tr>\n",
       "      <th>base_class_model_test</th>\n",
       "      <td>0.605263</td>\n",
       "      <td>0.718750</td>\n",
       "      <td>0.657143</td>\n",
       "      <td>0.755102</td>\n",
       "    </tr>\n",
       "  </tbody>\n",
       "</table>\n",
       "</div>"
      ],
      "text/plain": [
       "                        Precision    Recall  F1 Score  Accuracy\n",
       "Model Name                                                     \n",
       "base_class_model_train   0.725490  0.755102  0.740000  0.823129\n",
       "base_class_model_test    0.605263  0.718750  0.657143  0.755102"
      ]
     },
     "execution_count": 31,
     "metadata": {},
     "output_type": "execute_result"
    }
   ],
   "source": [
    "# Define labels for the confusion matrix\n",
    "labels = ['No Diabetes', 'Diabetes']\n",
    "\n",
    "train_scores = eval_classification(y_train, train_preds, \n",
    "                                   name='base_class_model_train',\n",
    "                                  labels=labels)\n",
    "test_scores = eval_classification(y_test, test_preds, \n",
    "                                   name='base_class_model_test',\n",
    "                                  labels=labels)\n",
    "class_scores = pd.concat([train_scores, test_scores])\n",
    "class_scores"
   ]
  },
  {
   "cell_type": "code",
   "execution_count": null,
   "metadata": {},
   "outputs": [],
   "source": []
  }
 ],
 "metadata": {
  "colab": {
   "provenance": [
    {
     "file_id": "1AMkk4AkOwuh0L19EdXpLJHJaeZXCP6kQ",
     "timestamp": 1654554871276
    },
    {
     "file_id": "1HZQ_jeFRQsrlNGjvh_ru52Q-1DhIahua",
     "timestamp": 1636586978598
    }
   ]
  },
  "kernelspec": {
   "display_name": "codingdojo",
   "language": "python",
   "name": "codingdojo"
  },
  "language_info": {
   "codemirror_mode": {
    "name": "ipython",
    "version": 3
   },
   "file_extension": ".py",
   "mimetype": "text/x-python",
   "name": "python",
   "nbconvert_exporter": "python",
   "pygments_lexer": "ipython3",
   "version": "3.8.8"
  },
  "toc": {
   "base_numbering": 1,
   "nav_menu": {},
   "number_sections": false,
   "sideBar": true,
   "skip_h1_title": false,
   "title_cell": "Table of Contents",
   "title_sidebar": "Contents",
   "toc_cell": false,
   "toc_position": {
    "height": "calc(100% - 180px)",
    "left": "10px",
    "top": "150px",
    "width": "250.9px"
   },
   "toc_section_display": true,
   "toc_window_display": false
  }
 },
 "nbformat": 4,
 "nbformat_minor": 1
}
